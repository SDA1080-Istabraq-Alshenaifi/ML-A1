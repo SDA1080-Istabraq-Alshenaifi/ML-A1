{
 "cells": [
  {
   "cell_type": "markdown",
   "id": "bb7b5297",
   "metadata": {
    "papermill": {
     "duration": 0.149353,
     "end_time": "2022-03-13T16:33:15.972259",
     "exception": false,
     "start_time": "2022-03-13T16:33:15.822906",
     "status": "completed"
    },
    "tags": []
   },
   "source": [
    "___\n",
    "\n",
    "<p style=\"text-align: center;\"><img src=\"https://docs.google.com/uc?id=1lY0Uj5R04yMY3-ZppPWxqCr5pvBLYPnV\" class=\"img-fluid\" alt=\"CLRSWY\"></p>\n",
    "\n",
    "___"
   ]
  },
  {
   "cell_type": "markdown",
   "id": "daac7f6c",
   "metadata": {
    "papermill": {
     "duration": 0.08049,
     "end_time": "2022-03-13T16:33:16.150241",
     "exception": false,
     "start_time": "2022-03-13T16:33:16.069751",
     "status": "completed"
    },
    "tags": []
   },
   "source": [
    "<h1 style=\"text-align: center;\">Deep Learning<br><br>Assignment-1 (ANN)<br><br>Churn Prediction for Bank Customer<br><h1>"
   ]
  },
  {
   "cell_type": "markdown",
   "id": "7b5153da",
   "metadata": {
    "cell_style": "center",
    "papermill": {
     "duration": 0.079124,
     "end_time": "2022-03-13T16:33:16.795090",
     "exception": false,
     "start_time": "2022-03-13T16:33:16.715966",
     "status": "completed"
    },
    "tags": []
   },
   "source": [
    "## Import  libraries & data"
   ]
  },
  {
   "cell_type": "code",
   "execution_count": 1,
   "id": "bf3892e7",
   "metadata": {
    "cell_style": "center",
    "execution": {
     "iopub.execute_input": "2022-03-13T16:33:18.131665Z",
     "iopub.status.busy": "2022-03-13T16:33:18.130839Z",
     "iopub.status.idle": "2022-03-13T16:33:23.926896Z",
     "shell.execute_reply": "2022-03-13T16:33:23.925653Z",
     "shell.execute_reply.started": "2022-03-13T16:21:21.027408Z"
    },
    "executionInfo": {
     "elapsed": 829,
     "status": "ok",
     "timestamp": 1610204616389,
     "user": {
      "displayName": "Richard C",
      "photoUrl": "",
      "userId": "08040814671867660929"
     },
     "user_tz": -180
    },
    "id": "YzzxpfNaoFyZ",
    "papermill": {
     "duration": 5.881957,
     "end_time": "2022-03-13T16:33:23.927046",
     "exception": false,
     "start_time": "2022-03-13T16:33:18.045089",
     "status": "completed"
    },
    "tags": []
   },
   "outputs": [],
   "source": [
    "import numpy as np\n",
    "import pandas as pd\n",
    "import matplotlib.pyplot as plt\n",
    "import seaborn as sns\n",
    "\n",
    "from sklearn.compose import make_column_transformer\n",
    "from sklearn.preprocessing import OneHotEncoder, StandardScaler, RobustScaler, MinMaxScaler\n",
    "from sklearn.model_selection import train_test_split\n",
    "from sklearn.metrics import recall_score, classification_report, ConfusionMatrixDisplay,\\\n",
    "RocCurveDisplay, roc_auc_score,roc_curve\n",
    "from sklearn.utils.class_weight import compute_class_weight\n",
    "from scikeras.wrappers import KerasClassifier\n",
    "from sklearn.model_selection import cross_validate\n",
    "from sklearn.preprocessing import LabelEncoder\n",
    "\n",
    "import tensorflow as tf\n",
    "from tensorflow.keras.models import Sequential\n",
    "from tensorflow.keras.layers import Input, Dense, Activation, Dropout\n",
    "from tensorflow.keras.optimizers import Adam, Adadelta, RMSprop, Nadam\n",
    "from tensorflow.keras.callbacks import EarlyStopping\n",
    "from tensorflow.keras.models import load_model\n",
    "\n",
    "import pickle\n",
    "import warnings\n",
    "import os\n",
    "import optuna\n",
    "\n",
    "warnings.filterwarnings('ignore')\n",
    "os.environ['TF_CPP_MIN_LOG_LEVEL'] = '1'\n",
    "sns.set_style('whitegrid')"
   ]
  },
  {
   "cell_type": "code",
   "execution_count": 2,
   "id": "ef6722a3",
   "metadata": {
    "execution": {
     "iopub.execute_input": "2022-03-13T16:33:24.094821Z",
     "iopub.status.busy": "2022-03-13T16:33:24.093885Z",
     "iopub.status.idle": "2022-03-13T16:33:24.164146Z",
     "shell.execute_reply": "2022-03-13T16:33:24.164742Z",
     "shell.execute_reply.started": "2022-03-13T16:21:25.568333Z"
    },
    "papermill": {
     "duration": 0.156369,
     "end_time": "2022-03-13T16:33:24.164911",
     "exception": false,
     "start_time": "2022-03-13T16:33:24.008542",
     "status": "completed"
    },
    "tags": []
   },
   "outputs": [
    {
     "data": {
      "text/html": [
       "<div>\n",
       "<style scoped>\n",
       "    .dataframe tbody tr th:only-of-type {\n",
       "        vertical-align: middle;\n",
       "    }\n",
       "\n",
       "    .dataframe tbody tr th {\n",
       "        vertical-align: top;\n",
       "    }\n",
       "\n",
       "    .dataframe thead th {\n",
       "        text-align: right;\n",
       "    }\n",
       "</style>\n",
       "<table border=\"1\" class=\"dataframe\">\n",
       "  <thead>\n",
       "    <tr style=\"text-align: right;\">\n",
       "      <th></th>\n",
       "      <th>RowNumber</th>\n",
       "      <th>CustomerId</th>\n",
       "      <th>Surname</th>\n",
       "      <th>CreditScore</th>\n",
       "      <th>Geography</th>\n",
       "      <th>Gender</th>\n",
       "      <th>Age</th>\n",
       "      <th>Tenure</th>\n",
       "      <th>Balance</th>\n",
       "      <th>NumOfProducts</th>\n",
       "      <th>HasCrCard</th>\n",
       "      <th>IsActiveMember</th>\n",
       "      <th>EstimatedSalary</th>\n",
       "      <th>Exited</th>\n",
       "    </tr>\n",
       "  </thead>\n",
       "  <tbody>\n",
       "    <tr>\n",
       "      <th>0</th>\n",
       "      <td>1</td>\n",
       "      <td>15634602</td>\n",
       "      <td>Hargrave</td>\n",
       "      <td>619</td>\n",
       "      <td>France</td>\n",
       "      <td>Female</td>\n",
       "      <td>42</td>\n",
       "      <td>2</td>\n",
       "      <td>0.00</td>\n",
       "      <td>1</td>\n",
       "      <td>1</td>\n",
       "      <td>1</td>\n",
       "      <td>101348.88</td>\n",
       "      <td>1</td>\n",
       "    </tr>\n",
       "    <tr>\n",
       "      <th>1</th>\n",
       "      <td>2</td>\n",
       "      <td>15647311</td>\n",
       "      <td>Hill</td>\n",
       "      <td>608</td>\n",
       "      <td>Spain</td>\n",
       "      <td>Female</td>\n",
       "      <td>41</td>\n",
       "      <td>1</td>\n",
       "      <td>83807.86</td>\n",
       "      <td>1</td>\n",
       "      <td>0</td>\n",
       "      <td>1</td>\n",
       "      <td>112542.58</td>\n",
       "      <td>0</td>\n",
       "    </tr>\n",
       "    <tr>\n",
       "      <th>2</th>\n",
       "      <td>3</td>\n",
       "      <td>15619304</td>\n",
       "      <td>Onio</td>\n",
       "      <td>502</td>\n",
       "      <td>France</td>\n",
       "      <td>Female</td>\n",
       "      <td>42</td>\n",
       "      <td>8</td>\n",
       "      <td>159660.80</td>\n",
       "      <td>3</td>\n",
       "      <td>1</td>\n",
       "      <td>0</td>\n",
       "      <td>113931.57</td>\n",
       "      <td>1</td>\n",
       "    </tr>\n",
       "  </tbody>\n",
       "</table>\n",
       "</div>"
      ],
      "text/plain": [
       "   RowNumber  CustomerId   Surname  CreditScore Geography  Gender  Age  \\\n",
       "0          1    15634602  Hargrave          619    France  Female   42   \n",
       "1          2    15647311      Hill          608     Spain  Female   41   \n",
       "2          3    15619304      Onio          502    France  Female   42   \n",
       "\n",
       "   Tenure    Balance  NumOfProducts  HasCrCard  IsActiveMember  \\\n",
       "0       2       0.00              1          1               1   \n",
       "1       1   83807.86              1          0               1   \n",
       "2       8  159660.80              3          1               0   \n",
       "\n",
       "   EstimatedSalary  Exited  \n",
       "0        101348.88       1  \n",
       "1        112542.58       0  \n",
       "2        113931.57       1  "
      ]
     },
     "execution_count": 2,
     "metadata": {},
     "output_type": "execute_result"
    }
   ],
   "source": [
    "df = pd.read_csv('Churn_Modelling.csv')\n",
    "df.head(3)"
   ]
  },
  {
   "cell_type": "markdown",
   "id": "bf5ebacb",
   "metadata": {
    "heading_collapsed": true,
    "papermill": {
     "duration": 0.081323,
     "end_time": "2022-03-13T16:33:24.328300",
     "exception": false,
     "start_time": "2022-03-13T16:33:24.246977",
     "status": "completed"
    },
    "tags": []
   },
   "source": [
    "## Exploratory Data Analysis and Visualization"
   ]
  },
  {
   "cell_type": "code",
   "execution_count": 3,
   "id": "f50925dd",
   "metadata": {
    "cell_style": "split",
    "execution": {
     "iopub.execute_input": "2022-03-13T16:33:24.508071Z",
     "iopub.status.busy": "2022-03-13T16:33:24.506977Z",
     "iopub.status.idle": "2022-03-13T16:33:24.523645Z",
     "shell.execute_reply": "2022-03-13T16:33:24.524233Z",
     "shell.execute_reply.started": "2022-03-13T16:21:25.634342Z"
    },
    "executionInfo": {
     "elapsed": 854,
     "status": "ok",
     "timestamp": 1610201704635,
     "user": {
      "displayName": "Richard C",
      "photoUrl": "",
      "userId": "08040814671867660929"
     },
     "user_tz": -180
    },
    "hidden": true,
    "id": "9ROCQa9wf2uE",
    "outputId": "40e94921-6a7c-48c6-8c09-2623b6b60fa3",
    "papermill": {
     "duration": 0.111383,
     "end_time": "2022-03-13T16:33:24.524427",
     "exception": false,
     "start_time": "2022-03-13T16:33:24.413044",
     "status": "completed"
    },
    "tags": []
   },
   "outputs": [
    {
     "name": "stdout",
     "output_type": "stream",
     "text": [
      "<class 'pandas.core.frame.DataFrame'>\n",
      "RangeIndex: 10000 entries, 0 to 9999\n",
      "Data columns (total 14 columns):\n",
      " #   Column           Non-Null Count  Dtype  \n",
      "---  ------           --------------  -----  \n",
      " 0   RowNumber        10000 non-null  int64  \n",
      " 1   CustomerId       10000 non-null  int64  \n",
      " 2   Surname          10000 non-null  object \n",
      " 3   CreditScore      10000 non-null  int64  \n",
      " 4   Geography        10000 non-null  object \n",
      " 5   Gender           10000 non-null  object \n",
      " 6   Age              10000 non-null  int64  \n",
      " 7   Tenure           10000 non-null  int64  \n",
      " 8   Balance          10000 non-null  float64\n",
      " 9   NumOfProducts    10000 non-null  int64  \n",
      " 10  HasCrCard        10000 non-null  int64  \n",
      " 11  IsActiveMember   10000 non-null  int64  \n",
      " 12  EstimatedSalary  10000 non-null  float64\n",
      " 13  Exited           10000 non-null  int64  \n",
      "dtypes: float64(2), int64(9), object(3)\n",
      "memory usage: 1.1+ MB\n"
     ]
    }
   ],
   "source": [
    "df.info()"
   ]
  },
  {
   "cell_type": "code",
   "execution_count": 4,
   "id": "08f63bde",
   "metadata": {
    "cell_style": "split",
    "execution": {
     "iopub.execute_input": "2022-03-13T16:33:24.690443Z",
     "iopub.status.busy": "2022-03-13T16:33:24.689394Z",
     "iopub.status.idle": "2022-03-13T16:33:24.696974Z",
     "shell.execute_reply": "2022-03-13T16:33:24.696412Z",
     "shell.execute_reply.started": "2022-03-13T16:21:25.657968Z"
    },
    "executionInfo": {
     "elapsed": 798,
     "status": "ok",
     "timestamp": 1610201657421,
     "user": {
      "displayName": "Richard C",
      "photoUrl": "",
      "userId": "08040814671867660929"
     },
     "user_tz": -180
    },
    "hidden": true,
    "id": "vPyMUnVWfM0o",
    "outputId": "7a294ad3-49d9-4cea-b6a2-9824e2c0ba4a",
    "papermill": {
     "duration": 0.091553,
     "end_time": "2022-03-13T16:33:24.697115",
     "exception": false,
     "start_time": "2022-03-13T16:33:24.605562",
     "status": "completed"
    },
    "tags": []
   },
   "outputs": [
    {
     "data": {
      "text/plain": [
       "(10000, 14)"
      ]
     },
     "execution_count": 4,
     "metadata": {},
     "output_type": "execute_result"
    }
   ],
   "source": [
    "df.shape"
   ]
  },
  {
   "cell_type": "code",
   "execution_count": 5,
   "id": "ab1537f3",
   "metadata": {
    "cell_style": "split",
    "execution": {
     "iopub.execute_input": "2022-03-13T16:33:24.872337Z",
     "iopub.status.busy": "2022-03-13T16:33:24.868648Z",
     "iopub.status.idle": "2022-03-13T16:33:24.875838Z",
     "shell.execute_reply": "2022-03-13T16:33:24.876357Z",
     "shell.execute_reply.started": "2022-03-13T16:21:25.666704Z"
    },
    "hidden": true,
    "papermill": {
     "duration": 0.097397,
     "end_time": "2022-03-13T16:33:24.876526",
     "exception": false,
     "start_time": "2022-03-13T16:33:24.779129",
     "status": "completed"
    },
    "tags": []
   },
   "outputs": [
    {
     "data": {
      "text/plain": [
       "False"
      ]
     },
     "execution_count": 5,
     "metadata": {},
     "output_type": "execute_result"
    }
   ],
   "source": [
    "df.isnull().sum().any()"
   ]
  },
  {
   "cell_type": "code",
   "execution_count": 6,
   "id": "9602bb88",
   "metadata": {
    "cell_style": "split",
    "execution": {
     "iopub.execute_input": "2022-03-13T16:33:25.047507Z",
     "iopub.status.busy": "2022-03-13T16:33:25.046771Z",
     "iopub.status.idle": "2022-03-13T16:33:25.066443Z",
     "shell.execute_reply": "2022-03-13T16:33:25.065889Z",
     "shell.execute_reply.started": "2022-03-13T16:21:25.682932Z"
    },
    "hidden": true,
    "papermill": {
     "duration": 0.107825,
     "end_time": "2022-03-13T16:33:25.066580",
     "exception": false,
     "start_time": "2022-03-13T16:33:24.958755",
     "status": "completed"
    },
    "scrolled": true,
    "tags": []
   },
   "outputs": [
    {
     "data": {
      "text/plain": [
       "0"
      ]
     },
     "execution_count": 6,
     "metadata": {},
     "output_type": "execute_result"
    }
   ],
   "source": [
    "df.duplicated().sum()"
   ]
  },
  {
   "cell_type": "code",
   "execution_count": 7,
   "id": "fe2c4ea8",
   "metadata": {
    "cell_style": "center",
    "execution": {
     "iopub.execute_input": "2022-03-13T16:33:25.241893Z",
     "iopub.status.busy": "2022-03-13T16:33:25.239040Z",
     "iopub.status.idle": "2022-03-13T16:33:25.278083Z",
     "shell.execute_reply": "2022-03-13T16:33:25.277552Z",
     "shell.execute_reply.started": "2022-03-13T16:21:25.700931Z"
    },
    "executionInfo": {
     "elapsed": 967,
     "status": "ok",
     "timestamp": 1610201729941,
     "user": {
      "displayName": "Richard C",
      "photoUrl": "",
      "userId": "08040814671867660929"
     },
     "user_tz": -180
    },
    "hidden": true,
    "id": "mdUkgZD-gCUx",
    "outputId": "cd4f6662-e8c3-4a6f-93d5-26fed83d8a82",
    "papermill": {
     "duration": 0.129919,
     "end_time": "2022-03-13T16:33:25.278268",
     "exception": false,
     "start_time": "2022-03-13T16:33:25.148349",
     "status": "completed"
    },
    "tags": []
   },
   "outputs": [
    {
     "data": {
      "text/html": [
       "<div>\n",
       "<style scoped>\n",
       "    .dataframe tbody tr th:only-of-type {\n",
       "        vertical-align: middle;\n",
       "    }\n",
       "\n",
       "    .dataframe tbody tr th {\n",
       "        vertical-align: top;\n",
       "    }\n",
       "\n",
       "    .dataframe thead th {\n",
       "        text-align: right;\n",
       "    }\n",
       "</style>\n",
       "<table border=\"1\" class=\"dataframe\">\n",
       "  <thead>\n",
       "    <tr style=\"text-align: right;\">\n",
       "      <th></th>\n",
       "      <th>count</th>\n",
       "      <th>mean</th>\n",
       "      <th>std</th>\n",
       "      <th>min</th>\n",
       "      <th>25%</th>\n",
       "      <th>50%</th>\n",
       "      <th>75%</th>\n",
       "      <th>max</th>\n",
       "    </tr>\n",
       "  </thead>\n",
       "  <tbody>\n",
       "    <tr>\n",
       "      <th>RowNumber</th>\n",
       "      <td>10000.0</td>\n",
       "      <td>5.000500e+03</td>\n",
       "      <td>2886.895680</td>\n",
       "      <td>1.00</td>\n",
       "      <td>2500.75</td>\n",
       "      <td>5.000500e+03</td>\n",
       "      <td>7.500250e+03</td>\n",
       "      <td>10000.00</td>\n",
       "    </tr>\n",
       "    <tr>\n",
       "      <th>CustomerId</th>\n",
       "      <td>10000.0</td>\n",
       "      <td>1.569094e+07</td>\n",
       "      <td>71936.186123</td>\n",
       "      <td>15565701.00</td>\n",
       "      <td>15628528.25</td>\n",
       "      <td>1.569074e+07</td>\n",
       "      <td>1.575323e+07</td>\n",
       "      <td>15815690.00</td>\n",
       "    </tr>\n",
       "    <tr>\n",
       "      <th>CreditScore</th>\n",
       "      <td>10000.0</td>\n",
       "      <td>6.505288e+02</td>\n",
       "      <td>96.653299</td>\n",
       "      <td>350.00</td>\n",
       "      <td>584.00</td>\n",
       "      <td>6.520000e+02</td>\n",
       "      <td>7.180000e+02</td>\n",
       "      <td>850.00</td>\n",
       "    </tr>\n",
       "    <tr>\n",
       "      <th>Age</th>\n",
       "      <td>10000.0</td>\n",
       "      <td>3.892180e+01</td>\n",
       "      <td>10.487806</td>\n",
       "      <td>18.00</td>\n",
       "      <td>32.00</td>\n",
       "      <td>3.700000e+01</td>\n",
       "      <td>4.400000e+01</td>\n",
       "      <td>92.00</td>\n",
       "    </tr>\n",
       "    <tr>\n",
       "      <th>Tenure</th>\n",
       "      <td>10000.0</td>\n",
       "      <td>5.012800e+00</td>\n",
       "      <td>2.892174</td>\n",
       "      <td>0.00</td>\n",
       "      <td>3.00</td>\n",
       "      <td>5.000000e+00</td>\n",
       "      <td>7.000000e+00</td>\n",
       "      <td>10.00</td>\n",
       "    </tr>\n",
       "    <tr>\n",
       "      <th>Balance</th>\n",
       "      <td>10000.0</td>\n",
       "      <td>7.648589e+04</td>\n",
       "      <td>62397.405202</td>\n",
       "      <td>0.00</td>\n",
       "      <td>0.00</td>\n",
       "      <td>9.719854e+04</td>\n",
       "      <td>1.276442e+05</td>\n",
       "      <td>250898.09</td>\n",
       "    </tr>\n",
       "    <tr>\n",
       "      <th>NumOfProducts</th>\n",
       "      <td>10000.0</td>\n",
       "      <td>1.530200e+00</td>\n",
       "      <td>0.581654</td>\n",
       "      <td>1.00</td>\n",
       "      <td>1.00</td>\n",
       "      <td>1.000000e+00</td>\n",
       "      <td>2.000000e+00</td>\n",
       "      <td>4.00</td>\n",
       "    </tr>\n",
       "    <tr>\n",
       "      <th>HasCrCard</th>\n",
       "      <td>10000.0</td>\n",
       "      <td>7.055000e-01</td>\n",
       "      <td>0.455840</td>\n",
       "      <td>0.00</td>\n",
       "      <td>0.00</td>\n",
       "      <td>1.000000e+00</td>\n",
       "      <td>1.000000e+00</td>\n",
       "      <td>1.00</td>\n",
       "    </tr>\n",
       "    <tr>\n",
       "      <th>IsActiveMember</th>\n",
       "      <td>10000.0</td>\n",
       "      <td>5.151000e-01</td>\n",
       "      <td>0.499797</td>\n",
       "      <td>0.00</td>\n",
       "      <td>0.00</td>\n",
       "      <td>1.000000e+00</td>\n",
       "      <td>1.000000e+00</td>\n",
       "      <td>1.00</td>\n",
       "    </tr>\n",
       "    <tr>\n",
       "      <th>EstimatedSalary</th>\n",
       "      <td>10000.0</td>\n",
       "      <td>1.000902e+05</td>\n",
       "      <td>57510.492818</td>\n",
       "      <td>11.58</td>\n",
       "      <td>51002.11</td>\n",
       "      <td>1.001939e+05</td>\n",
       "      <td>1.493882e+05</td>\n",
       "      <td>199992.48</td>\n",
       "    </tr>\n",
       "    <tr>\n",
       "      <th>Exited</th>\n",
       "      <td>10000.0</td>\n",
       "      <td>2.037000e-01</td>\n",
       "      <td>0.402769</td>\n",
       "      <td>0.00</td>\n",
       "      <td>0.00</td>\n",
       "      <td>0.000000e+00</td>\n",
       "      <td>0.000000e+00</td>\n",
       "      <td>1.00</td>\n",
       "    </tr>\n",
       "  </tbody>\n",
       "</table>\n",
       "</div>"
      ],
      "text/plain": [
       "                   count          mean           std          min  \\\n",
       "RowNumber        10000.0  5.000500e+03   2886.895680         1.00   \n",
       "CustomerId       10000.0  1.569094e+07  71936.186123  15565701.00   \n",
       "CreditScore      10000.0  6.505288e+02     96.653299       350.00   \n",
       "Age              10000.0  3.892180e+01     10.487806        18.00   \n",
       "Tenure           10000.0  5.012800e+00      2.892174         0.00   \n",
       "Balance          10000.0  7.648589e+04  62397.405202         0.00   \n",
       "NumOfProducts    10000.0  1.530200e+00      0.581654         1.00   \n",
       "HasCrCard        10000.0  7.055000e-01      0.455840         0.00   \n",
       "IsActiveMember   10000.0  5.151000e-01      0.499797         0.00   \n",
       "EstimatedSalary  10000.0  1.000902e+05  57510.492818        11.58   \n",
       "Exited           10000.0  2.037000e-01      0.402769         0.00   \n",
       "\n",
       "                         25%           50%           75%          max  \n",
       "RowNumber            2500.75  5.000500e+03  7.500250e+03     10000.00  \n",
       "CustomerId       15628528.25  1.569074e+07  1.575323e+07  15815690.00  \n",
       "CreditScore           584.00  6.520000e+02  7.180000e+02       850.00  \n",
       "Age                    32.00  3.700000e+01  4.400000e+01        92.00  \n",
       "Tenure                  3.00  5.000000e+00  7.000000e+00        10.00  \n",
       "Balance                 0.00  9.719854e+04  1.276442e+05    250898.09  \n",
       "NumOfProducts           1.00  1.000000e+00  2.000000e+00         4.00  \n",
       "HasCrCard               0.00  1.000000e+00  1.000000e+00         1.00  \n",
       "IsActiveMember          0.00  1.000000e+00  1.000000e+00         1.00  \n",
       "EstimatedSalary     51002.11  1.001939e+05  1.493882e+05    199992.48  \n",
       "Exited                  0.00  0.000000e+00  0.000000e+00         1.00  "
      ]
     },
     "execution_count": 7,
     "metadata": {},
     "output_type": "execute_result"
    }
   ],
   "source": [
    "df.describe().T\n",
    "\n"
   ]
  },
  {
   "cell_type": "code",
   "execution_count": 8,
   "id": "9424f2ef",
   "metadata": {
    "execution": {
     "iopub.execute_input": "2022-03-13T16:33:25.462621Z",
     "iopub.status.busy": "2022-03-13T16:33:25.461542Z",
     "iopub.status.idle": "2022-03-13T16:33:25.464017Z",
     "shell.execute_reply": "2022-03-13T16:33:25.464666Z",
     "shell.execute_reply.started": "2022-03-13T16:21:25.735022Z"
    },
    "hidden": true,
    "papermill": {
     "duration": 0.102939,
     "end_time": "2022-03-13T16:33:25.464891",
     "exception": false,
     "start_time": "2022-03-13T16:33:25.361952",
     "status": "completed"
    },
    "tags": []
   },
   "outputs": [],
   "source": [
    "df.drop(['CustomerId', 'Surname'], axis=1, inplace=True)"
   ]
  },
  {
   "cell_type": "code",
   "execution_count": 9,
   "id": "16c0d342",
   "metadata": {
    "cell_style": "split",
    "execution": {
     "iopub.execute_input": "2022-03-13T16:33:25.655680Z",
     "iopub.status.busy": "2022-03-13T16:33:25.654629Z",
     "iopub.status.idle": "2022-03-13T16:33:25.924277Z",
     "shell.execute_reply": "2022-03-13T16:33:25.923683Z",
     "shell.execute_reply.started": "2022-03-13T16:21:25.741994Z"
    },
    "executionInfo": {
     "elapsed": 1052,
     "status": "ok",
     "timestamp": 1610201940310,
     "user": {
      "displayName": "Richard C",
      "photoUrl": "",
      "userId": "08040814671867660929"
     },
     "user_tz": -180
    },
    "hidden": true,
    "id": "_7vHUi5Hgldj",
    "outputId": "0018aaa8-d479-40c3-f973-161c63e7a77b",
    "papermill": {
     "duration": 0.363131,
     "end_time": "2022-03-13T16:33:25.924440",
     "exception": false,
     "start_time": "2022-03-13T16:33:25.561309",
     "status": "completed"
    },
    "tags": []
   },
   "outputs": [
    {
     "name": "stdout",
     "output_type": "stream",
     "text": [
      "Exited\n",
      "0    7963\n",
      "1    2037\n",
      "Name: count, dtype: int64\n"
     ]
    },
    {
     "data": {
      "image/png": "[encoded data removed]",
      "text/plain": [
       "<Figure size 640x480 with 1 Axes>"
      ]
     },
     "metadata": {},
     "output_type": "display_data"
    }
   ],
   "source": [
    "print(df.Exited.value_counts())\n",
    "sns.countplot(df[\"Exited\"]);"
   ]
  },
  {
   "cell_type": "code",
   "execution_count": 10,
   "id": "d2b7aad9",
   "metadata": {
    "cell_style": "split",
    "execution": {
     "iopub.execute_input": "2022-03-13T16:33:26.101477Z",
     "iopub.status.busy": "2022-03-13T16:33:26.100676Z",
     "iopub.status.idle": "2022-03-13T16:33:28.863449Z",
     "shell.execute_reply": "2022-03-13T16:33:28.864284Z",
     "shell.execute_reply.started": "2022-03-13T16:21:25.956328Z"
    },
    "hidden": true,
    "papermill": {
     "duration": 2.853495,
     "end_time": "2022-03-13T16:33:28.864557",
     "exception": false,
     "start_time": "2022-03-13T16:33:26.011062",
     "status": "completed"
    },
    "tags": []
   },
   "outputs": [
    {
     "data": {
      "image/png": "[encoded data removed]",
      "text/plain": [
       "<Figure size 1500x1200 with 12 Axes>"
      ]
     },
     "metadata": {},
     "output_type": "display_data"
    }
   ],
   "source": [
    "df.hist(figsize=(15, 12), bins=15);\n"
   ]
  },
  {
   "cell_type": "code",
   "execution_count": 11,
   "id": "8935dc51",
   "metadata": {
    "execution": {
     "iopub.execute_input": "2022-03-13T16:33:29.072637Z",
     "iopub.status.busy": "2022-03-13T16:33:29.068784Z",
     "iopub.status.idle": "2022-03-13T16:33:30.076333Z",
     "shell.execute_reply": "2022-03-13T16:33:30.077406Z",
     "shell.execute_reply.started": "2022-03-13T16:21:27.722538Z"
    },
    "hidden": true,
    "papermill": {
     "duration": 1.120286,
     "end_time": "2022-03-13T16:33:30.077627",
     "exception": false,
     "start_time": "2022-03-13T16:33:28.957341",
     "status": "completed"
    },
    "tags": []
   },
   "outputs": [
    {
     "data": {
      "image/png": "[encoded data removed]",
      "text/plain": [
       "<Figure size 1600x1200 with 4 Axes>"
      ]
     },
     "metadata": {},
     "output_type": "display_data"
    }
   ],
   "source": [
    "cat_list = [\"Gender\", \"HasCrCard\", \"IsActiveMember\", \"Geography\"]\n",
    "index = 0\n",
    "plt.figure(figsize=(16, 12))\n",
    "for i in cat_list:\n",
    "    index += 1\n",
    "    plt.subplot(2, 2, index)\n",
    "    sns.countplot(data=df, x=i, hue=\"Exited\")"
   ]
  },
  {
   "cell_type": "code",
   "execution_count": 12,
   "id": "fbae8ffc",
   "metadata": {
    "cell_style": "split",
    "execution": {
     "iopub.execute_input": "2022-03-13T16:33:30.264385Z",
     "iopub.status.busy": "2022-03-13T16:33:30.263719Z",
     "iopub.status.idle": "2022-03-13T16:33:33.004666Z",
     "shell.execute_reply": "2022-03-13T16:33:33.005317Z",
     "shell.execute_reply.started": "2022-03-13T16:21:28.591903Z"
    },
    "hidden": true,
    "papermill": {
     "duration": 2.837944,
     "end_time": "2022-03-13T16:33:33.005521",
     "exception": false,
     "start_time": "2022-03-13T16:33:30.167577",
     "status": "completed"
    },
    "tags": []
   },
   "outputs": [
    {
     "data": {
      "image/png": "[encoded data removed]",
      "text/plain": [
       "<Figure size 2000x700 with 1 Axes>"
      ]
     },
     "metadata": {},
     "output_type": "display_data"
    }
   ],
   "source": [
    "plt.figure(figsize=(20, 7))\n",
    "sns.countplot(x='Age', hue='Exited', data=df)\n",
    "plt.show()"
   ]
  },
  {
   "cell_type": "code",
   "execution_count": 13,
   "id": "565d484c",
   "metadata": {
    "cell_style": "center",
    "execution": {
     "iopub.execute_input": "2022-03-13T16:33:33.194457Z",
     "iopub.status.busy": "2022-03-13T16:33:33.193074Z",
     "iopub.status.idle": "2022-03-13T16:33:34.158751Z",
     "shell.execute_reply": "2022-03-13T16:33:34.159352Z",
     "shell.execute_reply.started": "2022-03-13T16:21:30.456913Z"
    },
    "executionInfo": {
     "elapsed": 5978,
     "status": "ok",
     "timestamp": 1610202268770,
     "user": {
      "displayName": "Richard C",
      "photoUrl": "",
      "userId": "08040814671867660929"
     },
     "user_tz": -180
    },
    "hidden": true,
    "id": "fNDK3HprhSU3",
    "outputId": "98fe8eba-dc36-4cc7-96ad-ff61182d12a2",
    "papermill": {
     "duration": 1.063056,
     "end_time": "2022-03-13T16:33:34.159644",
     "exception": false,
     "start_time": "2022-03-13T16:33:33.096588",
     "status": "completed"
    },
    "tags": []
   },
   "outputs": [
    {
     "data": {
      "image/png": "[encoded data removed]",
      "text/plain": [
       "<Figure size 1200x500 with 2 Axes>"
      ]
     },
     "metadata": {},
     "output_type": "display_data"
    }
   ],
   "source": [
    "plt.figure(figsize=(12, 5))\n",
    "sns.heatmap(df.corr(numeric_only=True), \n",
    "            vmin=-1,\n",
    "            vmax= 1,\n",
    "            cmap= 'YlOrRd', \n",
    "            linewidths=.12, \n",
    "            linecolor='white',\n",
    "            fmt='.2g',\n",
    "            square=True);"
   ]
  },
  {
   "cell_type": "code",
   "execution_count": 14,
   "id": "e82f32db",
   "metadata": {
    "cell_style": "center",
    "execution": {
     "iopub.execute_input": "2022-03-13T16:33:34.352846Z",
     "iopub.status.busy": "2022-03-13T16:33:34.351900Z",
     "iopub.status.idle": "2022-03-13T16:33:34.671165Z",
     "shell.execute_reply": "2022-03-13T16:33:34.670619Z",
     "shell.execute_reply.started": "2022-03-13T16:21:31.186653Z"
    },
    "executionInfo": {
     "elapsed": 1405,
     "status": "ok",
     "timestamp": 1610203065835,
     "user": {
      "displayName": "Richard C",
      "photoUrl": "",
      "userId": "08040814671867660929"
     },
     "user_tz": -180
    },
    "hidden": true,
    "id": "IasR3c8ajeC0",
    "outputId": "4742bedb-e6bc-4967-f1cd-c36f7610f33e",
    "papermill": {
     "duration": 0.417058,
     "end_time": "2022-03-13T16:33:34.671350",
     "exception": false,
     "start_time": "2022-03-13T16:33:34.254292",
     "status": "completed"
    },
    "tags": []
   },
   "outputs": [
    {
     "data": {
      "image/png": "[encoded data removed]",
      "text/plain": [
       "<Figure size 800x500 with 1 Axes>"
      ]
     },
     "metadata": {},
     "output_type": "display_data"
    }
   ],
   "source": [
    "\n",
    "# Encode categorical variables to numeric values\n",
    "label_encoder = LabelEncoder()\n",
    "df['Geography'] = label_encoder.fit_transform(df['Geography'])\n",
    "df['Gender'] = label_encoder.fit_transform(df['Gender'])\n",
    "\n",
    "# Calculate correlations with 'Exited' after converting categorical variables to numeric\n",
    "correlation_data = df.corr()['Exited'][:-1].sort_values()\n",
    "\n",
    "plt.figure(figsize=(8, 5))\n",
    "correlation_data.plot(kind='barh', colormap='viridis')\n",
    "plt.xlabel('Correlation')\n",
    "plt.ylabel('Features')\n",
    "plt.title('Correlated features with `Exited`')\n",
    "plt.show()\n"
   ]
  },
  {
   "cell_type": "code",
   "execution_count": 15,
   "id": "a54d8543",
   "metadata": {
    "execution": {
     "iopub.execute_input": "2022-03-13T16:33:34.867934Z",
     "iopub.status.busy": "2022-03-13T16:33:34.867279Z",
     "iopub.status.idle": "2022-03-13T16:33:34.885705Z",
     "shell.execute_reply": "2022-03-13T16:33:34.886358Z",
     "shell.execute_reply.started": "2022-03-13T16:21:31.571830Z"
    },
    "hidden": true,
    "papermill": {
     "duration": 0.121124,
     "end_time": "2022-03-13T16:33:34.886514",
     "exception": false,
     "start_time": "2022-03-13T16:33:34.765390",
     "status": "completed"
    },
    "tags": []
   },
   "outputs": [
    {
     "data": {
      "text/html": [
       "<div>\n",
       "<style scoped>\n",
       "    .dataframe tbody tr th:only-of-type {\n",
       "        vertical-align: middle;\n",
       "    }\n",
       "\n",
       "    .dataframe tbody tr th {\n",
       "        vertical-align: top;\n",
       "    }\n",
       "\n",
       "    .dataframe thead th {\n",
       "        text-align: right;\n",
       "    }\n",
       "</style>\n",
       "<table border=\"1\" class=\"dataframe\">\n",
       "  <thead>\n",
       "    <tr style=\"text-align: right;\">\n",
       "      <th></th>\n",
       "      <th>RowNumber</th>\n",
       "      <th>CreditScore</th>\n",
       "      <th>Geography</th>\n",
       "      <th>Gender</th>\n",
       "      <th>Age</th>\n",
       "      <th>Tenure</th>\n",
       "      <th>Balance</th>\n",
       "      <th>NumOfProducts</th>\n",
       "      <th>HasCrCard</th>\n",
       "      <th>IsActiveMember</th>\n",
       "      <th>EstimatedSalary</th>\n",
       "      <th>Exited</th>\n",
       "    </tr>\n",
       "  </thead>\n",
       "  <tbody>\n",
       "    <tr>\n",
       "      <th>0</th>\n",
       "      <td>1</td>\n",
       "      <td>619</td>\n",
       "      <td>0</td>\n",
       "      <td>0</td>\n",
       "      <td>42</td>\n",
       "      <td>2</td>\n",
       "      <td>0.00</td>\n",
       "      <td>1</td>\n",
       "      <td>1</td>\n",
       "      <td>1</td>\n",
       "      <td>101348.88</td>\n",
       "      <td>1</td>\n",
       "    </tr>\n",
       "    <tr>\n",
       "      <th>1</th>\n",
       "      <td>2</td>\n",
       "      <td>608</td>\n",
       "      <td>2</td>\n",
       "      <td>0</td>\n",
       "      <td>41</td>\n",
       "      <td>1</td>\n",
       "      <td>83807.86</td>\n",
       "      <td>1</td>\n",
       "      <td>0</td>\n",
       "      <td>1</td>\n",
       "      <td>112542.58</td>\n",
       "      <td>0</td>\n",
       "    </tr>\n",
       "    <tr>\n",
       "      <th>2</th>\n",
       "      <td>3</td>\n",
       "      <td>502</td>\n",
       "      <td>0</td>\n",
       "      <td>0</td>\n",
       "      <td>42</td>\n",
       "      <td>8</td>\n",
       "      <td>159660.80</td>\n",
       "      <td>3</td>\n",
       "      <td>1</td>\n",
       "      <td>0</td>\n",
       "      <td>113931.57</td>\n",
       "      <td>1</td>\n",
       "    </tr>\n",
       "    <tr>\n",
       "      <th>3</th>\n",
       "      <td>4</td>\n",
       "      <td>699</td>\n",
       "      <td>0</td>\n",
       "      <td>0</td>\n",
       "      <td>39</td>\n",
       "      <td>1</td>\n",
       "      <td>0.00</td>\n",
       "      <td>2</td>\n",
       "      <td>0</td>\n",
       "      <td>0</td>\n",
       "      <td>93826.63</td>\n",
       "      <td>0</td>\n",
       "    </tr>\n",
       "    <tr>\n",
       "      <th>4</th>\n",
       "      <td>5</td>\n",
       "      <td>850</td>\n",
       "      <td>2</td>\n",
       "      <td>0</td>\n",
       "      <td>43</td>\n",
       "      <td>2</td>\n",
       "      <td>125510.82</td>\n",
       "      <td>1</td>\n",
       "      <td>1</td>\n",
       "      <td>1</td>\n",
       "      <td>79084.10</td>\n",
       "      <td>0</td>\n",
       "    </tr>\n",
       "  </tbody>\n",
       "</table>\n",
       "</div>"
      ],
      "text/plain": [
       "   RowNumber  CreditScore  Geography  Gender  Age  Tenure    Balance  \\\n",
       "0          1          619          0       0   42       2       0.00   \n",
       "1          2          608          2       0   41       1   83807.86   \n",
       "2          3          502          0       0   42       8  159660.80   \n",
       "3          4          699          0       0   39       1       0.00   \n",
       "4          5          850          2       0   43       2  125510.82   \n",
       "\n",
       "   NumOfProducts  HasCrCard  IsActiveMember  EstimatedSalary  Exited  \n",
       "0              1          1               1        101348.88       1  \n",
       "1              1          0               1        112542.58       0  \n",
       "2              3          1               0        113931.57       1  \n",
       "3              2          0               0         93826.63       0  \n",
       "4              1          1               1         79084.10       0  "
      ]
     },
     "execution_count": 15,
     "metadata": {},
     "output_type": "execute_result"
    }
   ],
   "source": [
    "df = pd.get_dummies(df, drop_first=True)\n",
    "df.head()"
   ]
  },
  {
   "cell_type": "markdown",
   "id": "9fba6794",
   "metadata": {
    "heading_collapsed": true,
    "papermill": {
     "duration": 0.094145,
     "end_time": "2022-03-13T16:33:35.076316",
     "exception": false,
     "start_time": "2022-03-13T16:33:34.982171",
     "status": "completed"
    },
    "tags": []
   },
   "source": [
    "## Preprocessing of Data"
   ]
  },
  {
   "cell_type": "code",
   "execution_count": 16,
   "id": "dddc44cc",
   "metadata": {
    "execution": {
     "iopub.execute_input": "2022-03-13T16:33:35.272871Z",
     "iopub.status.busy": "2022-03-13T16:33:35.270621Z",
     "iopub.status.idle": "2022-03-13T16:33:35.273647Z",
     "shell.execute_reply": "2022-03-13T16:33:35.274153Z",
     "shell.execute_reply.started": "2022-03-13T16:21:31.603359Z"
    },
    "executionInfo": {
     "elapsed": 764,
     "status": "ok",
     "timestamp": 1610203310512,
     "user": {
      "displayName": "Richard C",
      "photoUrl": "",
      "userId": "08040814671867660929"
     },
     "user_tz": -180
    },
    "hidden": true,
    "id": "DjY-ZSPWka7D",
    "papermill": {
     "duration": 0.104605,
     "end_time": "2022-03-13T16:33:35.274363",
     "exception": false,
     "start_time": "2022-03-13T16:33:35.169758",
     "status": "completed"
    },
    "tags": []
   },
   "outputs": [],
   "source": [
    "from sklearn.model_selection import train_test_split\n",
    "from sklearn.preprocessing import MinMaxScaler"
   ]
  },
  {
   "cell_type": "code",
   "execution_count": 17,
   "id": "e5e7c2be",
   "metadata": {
    "cell_style": "center",
    "execution": {
     "iopub.execute_input": "2022-03-13T16:33:35.469952Z",
     "iopub.status.busy": "2022-03-13T16:33:35.468859Z",
     "iopub.status.idle": "2022-03-13T16:33:35.483206Z",
     "shell.execute_reply": "2022-03-13T16:33:35.483780Z",
     "shell.execute_reply.started": "2022-03-13T16:21:31.609288Z"
    },
    "executionInfo": {
     "elapsed": 1126,
     "status": "ok",
     "timestamp": 1610203246314,
     "user": {
      "displayName": "Richard C",
      "photoUrl": "",
      "userId": "08040814671867660929"
     },
     "user_tz": -180
    },
    "hidden": true,
    "id": "kjyTH753lq7M",
    "papermill": {
     "duration": 0.114044,
     "end_time": "2022-03-13T16:33:35.483944",
     "exception": false,
     "start_time": "2022-03-13T16:33:35.369900",
     "status": "completed"
    },
    "tags": []
   },
   "outputs": [],
   "source": [
    "X = df.drop('Exited', axis=1)\n",
    "y = df['Exited'].values\n",
    "seed = 42\n",
    "X_train, X_test, y_train, y_test = train_test_split(X,\n",
    "                                                    y,\n",
    "                                                    stratify=y,\n",
    "                                                    test_size=0.1,\n",
    "                                                    random_state=seed)\n"
   ]
  },
  {
   "cell_type": "code",
   "execution_count": 18,
   "id": "2a53d542",
   "metadata": {
    "cell_style": "split",
    "execution": {
     "iopub.execute_input": "2022-03-13T16:33:35.683341Z",
     "iopub.status.busy": "2022-03-13T16:33:35.682185Z",
     "iopub.status.idle": "2022-03-13T16:33:35.684521Z",
     "shell.execute_reply": "2022-03-13T16:33:35.685312Z",
     "shell.execute_reply.started": "2022-03-13T16:21:31.629324Z"
    },
    "hidden": true,
    "papermill": {
     "duration": 0.103984,
     "end_time": "2022-03-13T16:33:35.685507",
     "exception": false,
     "start_time": "2022-03-13T16:33:35.581523",
     "status": "completed"
    },
    "tags": []
   },
   "outputs": [],
   "source": [
    "scaler = MinMaxScaler()\n"
   ]
  },
  {
   "cell_type": "code",
   "execution_count": 19,
   "id": "34957b29",
   "metadata": {
    "cell_style": "split",
    "execution": {
     "iopub.execute_input": "2022-03-13T16:33:35.884592Z",
     "iopub.status.busy": "2022-03-13T16:33:35.883824Z",
     "iopub.status.idle": "2022-03-13T16:33:35.894062Z",
     "shell.execute_reply": "2022-03-13T16:33:35.893369Z",
     "shell.execute_reply.started": "2022-03-13T16:21:31.635521Z"
    },
    "executionInfo": {
     "elapsed": 696,
     "status": "ok",
     "timestamp": 1610203508023,
     "user": {
      "displayName": "Richard C",
      "photoUrl": "",
      "userId": "08040814671867660929"
     },
     "user_tz": -180
    },
    "hidden": true,
    "id": "Fgy3D9SBmWcq",
    "papermill": {
     "duration": 0.112805,
     "end_time": "2022-03-13T16:33:35.894270",
     "exception": false,
     "start_time": "2022-03-13T16:33:35.781465",
     "status": "completed"
    },
    "tags": []
   },
   "outputs": [],
   "source": [
    "X_train = scaler.fit_transform(X_train)\n",
    "X_test = scaler.transform(X_test)"
   ]
  },
  {
   "cell_type": "markdown",
   "id": "8d648baa",
   "metadata": {
    "id": "Ha9hDt_AoGaE",
    "papermill": {
     "duration": 0.095539,
     "end_time": "2022-03-13T16:33:36.087008",
     "exception": false,
     "start_time": "2022-03-13T16:33:35.991469",
     "status": "completed"
    },
    "tags": []
   },
   "source": [
    "## Modelling & Model Performance"
   ]
  },
  {
   "cell_type": "markdown",
   "id": "25b7159e",
   "metadata": {
    "heading_collapsed": true,
    "papermill": {
     "duration": 0.094138,
     "end_time": "2022-03-13T16:33:36.275564",
     "exception": false,
     "start_time": "2022-03-13T16:33:36.181426",
     "status": "completed"
    },
    "tags": []
   },
   "source": [
    "### without class_weigth"
   ]
  },
  {
   "cell_type": "code",
   "execution_count": 20,
   "id": "543725a6",
   "metadata": {
    "execution": {
     "iopub.execute_input": "2022-03-13T16:33:36.472812Z",
     "iopub.status.busy": "2022-03-13T16:33:36.471898Z",
     "iopub.status.idle": "2022-03-13T16:33:36.475552Z",
     "shell.execute_reply": "2022-03-13T16:33:36.476061Z",
     "shell.execute_reply.started": "2022-03-13T16:21:31.651599Z"
    },
    "papermill": {
     "duration": 0.107901,
     "end_time": "2022-03-13T16:33:36.476257",
     "exception": false,
     "start_time": "2022-03-13T16:33:36.368356",
     "status": "completed"
    },
    "tags": []
   },
   "outputs": [
    {
     "data": {
      "text/plain": [
       "(9000, 11)"
      ]
     },
     "execution_count": 20,
     "metadata": {},
     "output_type": "execute_result"
    }
   ],
   "source": [
    "X_train.shape"
   ]
  },
  {
   "cell_type": "code",
   "execution_count": 21,
   "id": "889c1bc7",
   "metadata": {
    "cell_style": "split",
    "execution": {
     "iopub.execute_input": "2022-03-13T16:33:36.836172Z",
     "iopub.status.busy": "2022-03-13T16:33:36.835150Z",
     "iopub.status.idle": "2022-03-13T16:33:39.827581Z",
     "shell.execute_reply": "2022-03-13T16:33:39.828181Z",
     "shell.execute_reply.started": "2022-03-13T16:24:32.479661Z"
    },
    "hidden": true,
    "papermill": {
     "duration": 3.164967,
     "end_time": "2022-03-13T16:33:39.828389",
     "exception": false,
     "start_time": "2022-03-13T16:33:36.663422",
     "status": "completed"
    },
    "tags": []
   },
   "outputs": [],
   "source": [
    "from tensorflow.keras.optimizers import Adam\n",
    "model = Sequential()\n",
    "\n",
    "tf.random.set_seed(seed)\n",
    "\n",
    "model.add(Dense(16, activation=\"relu\"))\n",
    "model.add(Dense(8, activation=\"relu\"))\n",
    "model.add(Dense(1, activation=\"sigmoid\"))\n",
    "\n",
    "opt = Adam(learning_rate=0.001)\n",
    "model.compile(optimizer=opt, \n",
    "              loss=\"binary_crossentropy\",\n",
    "              metrics=[\"Recall\"])"
   ]
  },
  {
   "cell_type": "code",
   "execution_count": 22,
   "id": "3fab7fab",
   "metadata": {
    "cell_style": "split",
    "execution": {
     "iopub.execute_input": "2022-03-13T16:33:40.027439Z",
     "iopub.status.busy": "2022-03-13T16:33:40.026406Z",
     "iopub.status.idle": "2022-03-13T16:33:40.032306Z",
     "shell.execute_reply": "2022-03-13T16:33:40.031687Z",
     "shell.execute_reply.started": "2022-03-13T16:24:38.959677Z"
    },
    "hidden": true,
    "papermill": {
     "duration": 0.106903,
     "end_time": "2022-03-13T16:33:40.032448",
     "exception": false,
     "start_time": "2022-03-13T16:33:39.925545",
     "status": "completed"
    },
    "tags": []
   },
   "outputs": [],
   "source": [
    "early_stop = EarlyStopping(monitor=\"val_loss\",\n",
    "                           mode=\"auto\",\n",
    "                           verbose=1,\n",
    "                           patience=15)\n",
    "#The patience is often set somewhere between 10 and 100 (10 or 20 is more common), \n",
    "#but it really depends on your dataset and network."
   ]
  },
  {
   "cell_type": "code",
   "execution_count": 23,
   "id": "a0cd9726",
   "metadata": {
    "cell_style": "center",
    "execution": {
     "iopub.execute_input": "2022-03-13T16:33:40.234604Z",
     "iopub.status.busy": "2022-03-13T16:33:40.233543Z",
     "iopub.status.idle": "2022-03-13T16:34:22.893762Z",
     "shell.execute_reply": "2022-03-13T16:34:22.894379Z",
     "shell.execute_reply.started": "2022-03-13T16:24:40.410645Z"
    },
    "hidden": true,
    "papermill": {
     "duration": 42.765376,
     "end_time": "2022-03-13T16:34:22.894588",
     "exception": false,
     "start_time": "2022-03-13T16:33:40.129212",
     "status": "completed"
    },
    "scrolled": true,
    "tags": []
   },
   "outputs": [
    {
     "name": "stdout",
     "output_type": "stream",
     "text": [
      "Epoch 1/200\n",
      "64/64 [==============================] - 1s 5ms/step - loss: 0.6292 - recall: 0.1283 - val_loss: 0.5619 - val_recall: 0.0000e+00\n",
      "Epoch 2/200\n",
      "64/64 [==============================] - 0s 2ms/step - loss: 0.5248 - recall: 0.0000e+00 - val_loss: 0.4986 - val_recall: 0.0000e+00\n",
      "Epoch 3/200\n",
      "64/64 [==============================] - 0s 2ms/step - loss: 0.4983 - recall: 0.0000e+00 - val_loss: 0.4839 - val_recall: 0.0000e+00\n",
      "Epoch 4/200\n",
      "64/64 [==============================] - 0s 2ms/step - loss: 0.4840 - recall: 0.0042 - val_loss: 0.4583 - val_recall: 0.0276\n",
      "Epoch 5/200\n",
      "64/64 [==============================] - 0s 3ms/step - loss: 0.4662 - recall: 0.0539 - val_loss: 0.4432 - val_recall: 0.1050\n",
      "Epoch 6/200\n",
      "64/64 [==============================] - 0s 3ms/step - loss: 0.4566 - recall: 0.0878 - val_loss: 0.4364 - val_recall: 0.0829\n",
      "Epoch 7/200\n",
      "64/64 [==============================] - 0s 2ms/step - loss: 0.4499 - recall: 0.1065 - val_loss: 0.4265 - val_recall: 0.1657\n",
      "Epoch 8/200\n",
      "64/64 [==============================] - 0s 2ms/step - loss: 0.4437 - recall: 0.1247 - val_loss: 0.4203 - val_recall: 0.1768\n",
      "Epoch 9/200\n",
      "64/64 [==============================] - 0s 2ms/step - loss: 0.4378 - recall: 0.1350 - val_loss: 0.4157 - val_recall: 0.2873\n",
      "Epoch 10/200\n",
      "64/64 [==============================] - 0s 2ms/step - loss: 0.4324 - recall: 0.1659 - val_loss: 0.4063 - val_recall: 0.2376\n",
      "Epoch 11/200\n",
      "64/64 [==============================] - 0s 2ms/step - loss: 0.4274 - recall: 0.1701 - val_loss: 0.3998 - val_recall: 0.2597\n",
      "Epoch 12/200\n",
      "64/64 [==============================] - 0s 2ms/step - loss: 0.4217 - recall: 0.2143 - val_loss: 0.3928 - val_recall: 0.2652\n",
      "Epoch 13/200\n",
      "64/64 [==============================] - 0s 2ms/step - loss: 0.4162 - recall: 0.2173 - val_loss: 0.3912 - val_recall: 0.3536\n",
      "Epoch 14/200\n",
      "64/64 [==============================] - 0s 2ms/step - loss: 0.4116 - recall: 0.2494 - val_loss: 0.3799 - val_recall: 0.2652\n",
      "Epoch 15/200\n",
      "64/64 [==============================] - 0s 2ms/step - loss: 0.4061 - recall: 0.2633 - val_loss: 0.3737 - val_recall: 0.3260\n",
      "Epoch 16/200\n",
      "64/64 [==============================] - 0s 2ms/step - loss: 0.4015 - recall: 0.2821 - val_loss: 0.3681 - val_recall: 0.3425\n",
      "Epoch 17/200\n",
      "64/64 [==============================] - 0s 2ms/step - loss: 0.3969 - recall: 0.3021 - val_loss: 0.3628 - val_recall: 0.3204\n",
      "Epoch 18/200\n",
      "64/64 [==============================] - 0s 2ms/step - loss: 0.3929 - recall: 0.3069 - val_loss: 0.3574 - val_recall: 0.3812\n",
      "Epoch 19/200\n",
      "64/64 [==============================] - 0s 2ms/step - loss: 0.3891 - recall: 0.3275 - val_loss: 0.3531 - val_recall: 0.4641\n",
      "Epoch 20/200\n",
      "64/64 [==============================] - 0s 2ms/step - loss: 0.3858 - recall: 0.3390 - val_loss: 0.3476 - val_recall: 0.4033\n",
      "Epoch 21/200\n",
      "64/64 [==============================] - 0s 2ms/step - loss: 0.3825 - recall: 0.3390 - val_loss: 0.3451 - val_recall: 0.4696\n",
      "Epoch 22/200\n",
      "64/64 [==============================] - 0s 2ms/step - loss: 0.3802 - recall: 0.3547 - val_loss: 0.3399 - val_recall: 0.4254\n",
      "Epoch 23/200\n",
      "64/64 [==============================] - 0s 2ms/step - loss: 0.3784 - recall: 0.3608 - val_loss: 0.3370 - val_recall: 0.4586\n",
      "Epoch 24/200\n",
      "64/64 [==============================] - 0s 2ms/step - loss: 0.3764 - recall: 0.3674 - val_loss: 0.3354 - val_recall: 0.4475\n",
      "Epoch 25/200\n",
      "64/64 [==============================] - 0s 2ms/step - loss: 0.3739 - recall: 0.3820 - val_loss: 0.3346 - val_recall: 0.4365\n",
      "Epoch 26/200\n",
      "64/64 [==============================] - 0s 2ms/step - loss: 0.3724 - recall: 0.3777 - val_loss: 0.3321 - val_recall: 0.4199\n",
      "Epoch 27/200\n",
      "64/64 [==============================] - 0s 2ms/step - loss: 0.3711 - recall: 0.3789 - val_loss: 0.3307 - val_recall: 0.4696\n",
      "Epoch 28/200\n",
      "64/64 [==============================] - 0s 2ms/step - loss: 0.3718 - recall: 0.3898 - val_loss: 0.3282 - val_recall: 0.4807\n",
      "Epoch 29/200\n",
      "64/64 [==============================] - 0s 2ms/step - loss: 0.3691 - recall: 0.3795 - val_loss: 0.3268 - val_recall: 0.4420\n",
      "Epoch 30/200\n",
      "64/64 [==============================] - 0s 2ms/step - loss: 0.3682 - recall: 0.3923 - val_loss: 0.3260 - val_recall: 0.5028\n",
      "Epoch 31/200\n",
      "64/64 [==============================] - 0s 2ms/step - loss: 0.3668 - recall: 0.3965 - val_loss: 0.3271 - val_recall: 0.4917\n",
      "Epoch 32/200\n",
      "64/64 [==============================] - 0s 2ms/step - loss: 0.3661 - recall: 0.3874 - val_loss: 0.3234 - val_recall: 0.4475\n",
      "Epoch 33/200\n",
      "64/64 [==============================] - 0s 2ms/step - loss: 0.3651 - recall: 0.3977 - val_loss: 0.3219 - val_recall: 0.4641\n",
      "Epoch 34/200\n",
      "64/64 [==============================] - 0s 2ms/step - loss: 0.3649 - recall: 0.3923 - val_loss: 0.3216 - val_recall: 0.4641\n",
      "Epoch 35/200\n",
      "64/64 [==============================] - 0s 2ms/step - loss: 0.3643 - recall: 0.3977 - val_loss: 0.3205 - val_recall: 0.5028\n",
      "Epoch 36/200\n",
      "64/64 [==============================] - 0s 2ms/step - loss: 0.3633 - recall: 0.3977 - val_loss: 0.3197 - val_recall: 0.4530\n",
      "Epoch 37/200\n",
      "64/64 [==============================] - 0s 2ms/step - loss: 0.3643 - recall: 0.3941 - val_loss: 0.3191 - val_recall: 0.4751\n",
      "Epoch 38/200\n",
      "64/64 [==============================] - 0s 2ms/step - loss: 0.3620 - recall: 0.3959 - val_loss: 0.3188 - val_recall: 0.4807\n",
      "Epoch 39/200\n",
      "64/64 [==============================] - 0s 2ms/step - loss: 0.3609 - recall: 0.3995 - val_loss: 0.3165 - val_recall: 0.4751\n",
      "Epoch 40/200\n",
      "64/64 [==============================] - 0s 2ms/step - loss: 0.3607 - recall: 0.4019 - val_loss: 0.3183 - val_recall: 0.4807\n",
      "Epoch 41/200\n",
      "64/64 [==============================] - 0s 2ms/step - loss: 0.3601 - recall: 0.3983 - val_loss: 0.3196 - val_recall: 0.4917\n",
      "Epoch 42/200\n",
      "64/64 [==============================] - 0s 2ms/step - loss: 0.3604 - recall: 0.4013 - val_loss: 0.3177 - val_recall: 0.4475\n",
      "Epoch 43/200\n",
      "64/64 [==============================] - 0s 2ms/step - loss: 0.3592 - recall: 0.4019 - val_loss: 0.3148 - val_recall: 0.4862\n",
      "Epoch 44/200\n",
      "64/64 [==============================] - 0s 2ms/step - loss: 0.3594 - recall: 0.4098 - val_loss: 0.3145 - val_recall: 0.4751\n",
      "Epoch 45/200\n",
      "64/64 [==============================] - 0s 2ms/step - loss: 0.3586 - recall: 0.4068 - val_loss: 0.3174 - val_recall: 0.4807\n",
      "Epoch 46/200\n",
      "64/64 [==============================] - 0s 2ms/step - loss: 0.3590 - recall: 0.4031 - val_loss: 0.3133 - val_recall: 0.4751\n",
      "Epoch 47/200\n",
      "64/64 [==============================] - 0s 2ms/step - loss: 0.3583 - recall: 0.4140 - val_loss: 0.3136 - val_recall: 0.4751\n",
      "Epoch 48/200\n",
      "64/64 [==============================] - 0s 2ms/step - loss: 0.3580 - recall: 0.4104 - val_loss: 0.3130 - val_recall: 0.4807\n",
      "Epoch 49/200\n",
      "64/64 [==============================] - 0s 2ms/step - loss: 0.3575 - recall: 0.4098 - val_loss: 0.3158 - val_recall: 0.4475\n",
      "Epoch 50/200\n",
      "64/64 [==============================] - 0s 2ms/step - loss: 0.3575 - recall: 0.4062 - val_loss: 0.3166 - val_recall: 0.4696\n",
      "Epoch 51/200\n",
      "64/64 [==============================] - 0s 2ms/step - loss: 0.3564 - recall: 0.4134 - val_loss: 0.3144 - val_recall: 0.4807\n",
      "Epoch 52/200\n",
      "64/64 [==============================] - 0s 2ms/step - loss: 0.3570 - recall: 0.4086 - val_loss: 0.3143 - val_recall: 0.5083\n",
      "Epoch 53/200\n",
      "64/64 [==============================] - 0s 3ms/step - loss: 0.3563 - recall: 0.4116 - val_loss: 0.3118 - val_recall: 0.4530\n",
      "Epoch 54/200\n",
      "64/64 [==============================] - 0s 3ms/step - loss: 0.3573 - recall: 0.4122 - val_loss: 0.3104 - val_recall: 0.4751\n",
      "Epoch 55/200\n",
      "64/64 [==============================] - 0s 3ms/step - loss: 0.3558 - recall: 0.4080 - val_loss: 0.3117 - val_recall: 0.4807\n",
      "Epoch 56/200\n",
      "64/64 [==============================] - 0s 2ms/step - loss: 0.3558 - recall: 0.4177 - val_loss: 0.3123 - val_recall: 0.4807\n",
      "Epoch 57/200\n",
      "64/64 [==============================] - 0s 2ms/step - loss: 0.3551 - recall: 0.4074 - val_loss: 0.3107 - val_recall: 0.5083\n",
      "Epoch 58/200\n",
      "64/64 [==============================] - 0s 2ms/step - loss: 0.3547 - recall: 0.4062 - val_loss: 0.3098 - val_recall: 0.4862\n",
      "Epoch 59/200\n",
      "64/64 [==============================] - 0s 2ms/step - loss: 0.3550 - recall: 0.4146 - val_loss: 0.3106 - val_recall: 0.5083\n",
      "Epoch 60/200\n"
     ]
    },
    {
     "name": "stdout",
     "output_type": "stream",
     "text": [
      "64/64 [==============================] - 0s 2ms/step - loss: 0.3543 - recall: 0.4159 - val_loss: 0.3105 - val_recall: 0.4586\n",
      "Epoch 61/200\n",
      "64/64 [==============================] - 0s 3ms/step - loss: 0.3559 - recall: 0.4092 - val_loss: 0.3103 - val_recall: 0.4530\n",
      "Epoch 62/200\n",
      "64/64 [==============================] - 0s 2ms/step - loss: 0.3538 - recall: 0.4153 - val_loss: 0.3163 - val_recall: 0.5414\n",
      "Epoch 63/200\n",
      "64/64 [==============================] - 0s 2ms/step - loss: 0.3538 - recall: 0.4189 - val_loss: 0.3085 - val_recall: 0.4972\n",
      "Epoch 64/200\n",
      "64/64 [==============================] - 0s 2ms/step - loss: 0.3540 - recall: 0.4122 - val_loss: 0.3080 - val_recall: 0.5138\n",
      "Epoch 65/200\n",
      "64/64 [==============================] - 0s 2ms/step - loss: 0.3532 - recall: 0.4140 - val_loss: 0.3099 - val_recall: 0.4420\n",
      "Epoch 66/200\n",
      "64/64 [==============================] - 0s 2ms/step - loss: 0.3545 - recall: 0.4044 - val_loss: 0.3126 - val_recall: 0.5028\n",
      "Epoch 67/200\n",
      "64/64 [==============================] - 0s 2ms/step - loss: 0.3543 - recall: 0.4243 - val_loss: 0.3074 - val_recall: 0.4641\n",
      "Epoch 68/200\n",
      "64/64 [==============================] - 0s 2ms/step - loss: 0.3537 - recall: 0.4128 - val_loss: 0.3075 - val_recall: 0.5028\n",
      "Epoch 69/200\n",
      "64/64 [==============================] - 0s 2ms/step - loss: 0.3533 - recall: 0.4098 - val_loss: 0.3090 - val_recall: 0.5028\n",
      "Epoch 70/200\n",
      "64/64 [==============================] - 0s 2ms/step - loss: 0.3528 - recall: 0.4171 - val_loss: 0.3060 - val_recall: 0.4972\n",
      "Epoch 71/200\n",
      "64/64 [==============================] - 0s 2ms/step - loss: 0.3532 - recall: 0.4171 - val_loss: 0.3071 - val_recall: 0.4972\n",
      "Epoch 72/200\n",
      "64/64 [==============================] - 0s 2ms/step - loss: 0.3527 - recall: 0.4189 - val_loss: 0.3091 - val_recall: 0.4917\n",
      "Epoch 73/200\n",
      "64/64 [==============================] - 0s 2ms/step - loss: 0.3530 - recall: 0.4171 - val_loss: 0.3049 - val_recall: 0.4917\n",
      "Epoch 74/200\n",
      "64/64 [==============================] - 0s 2ms/step - loss: 0.3522 - recall: 0.4153 - val_loss: 0.3082 - val_recall: 0.5138\n",
      "Epoch 75/200\n",
      "64/64 [==============================] - 0s 2ms/step - loss: 0.3528 - recall: 0.4189 - val_loss: 0.3053 - val_recall: 0.4917\n",
      "Epoch 76/200\n",
      "64/64 [==============================] - 0s 2ms/step - loss: 0.3516 - recall: 0.4134 - val_loss: 0.3061 - val_recall: 0.4972\n",
      "Epoch 77/200\n",
      "64/64 [==============================] - 0s 2ms/step - loss: 0.3514 - recall: 0.4213 - val_loss: 0.3053 - val_recall: 0.5028\n",
      "Epoch 78/200\n",
      "64/64 [==============================] - 0s 2ms/step - loss: 0.3525 - recall: 0.4153 - val_loss: 0.3066 - val_recall: 0.5193\n",
      "Epoch 79/200\n",
      "64/64 [==============================] - 0s 2ms/step - loss: 0.3520 - recall: 0.4153 - val_loss: 0.3057 - val_recall: 0.5249\n",
      "Epoch 80/200\n",
      "64/64 [==============================] - 0s 2ms/step - loss: 0.3527 - recall: 0.4159 - val_loss: 0.3059 - val_recall: 0.4917\n",
      "Epoch 81/200\n",
      "64/64 [==============================] - 0s 2ms/step - loss: 0.3517 - recall: 0.4201 - val_loss: 0.3070 - val_recall: 0.4641\n",
      "Epoch 82/200\n",
      "64/64 [==============================] - 0s 2ms/step - loss: 0.3511 - recall: 0.4201 - val_loss: 0.3080 - val_recall: 0.4475\n",
      "Epoch 83/200\n",
      "64/64 [==============================] - 0s 2ms/step - loss: 0.3512 - recall: 0.4153 - val_loss: 0.3063 - val_recall: 0.4972\n",
      "Epoch 84/200\n",
      "64/64 [==============================] - 0s 2ms/step - loss: 0.3511 - recall: 0.4189 - val_loss: 0.3051 - val_recall: 0.5083\n",
      "Epoch 85/200\n",
      "64/64 [==============================] - 0s 3ms/step - loss: 0.3508 - recall: 0.4262 - val_loss: 0.3038 - val_recall: 0.5028\n",
      "Epoch 86/200\n",
      "64/64 [==============================] - 0s 2ms/step - loss: 0.3506 - recall: 0.4207 - val_loss: 0.3038 - val_recall: 0.5028\n",
      "Epoch 87/200\n",
      "64/64 [==============================] - 0s 2ms/step - loss: 0.3507 - recall: 0.4189 - val_loss: 0.3042 - val_recall: 0.4917\n",
      "Epoch 88/200\n",
      "64/64 [==============================] - 0s 2ms/step - loss: 0.3505 - recall: 0.4183 - val_loss: 0.3062 - val_recall: 0.4807\n",
      "Epoch 89/200\n",
      "64/64 [==============================] - 0s 2ms/step - loss: 0.3505 - recall: 0.4159 - val_loss: 0.3036 - val_recall: 0.5083\n",
      "Epoch 90/200\n",
      "64/64 [==============================] - 0s 2ms/step - loss: 0.3509 - recall: 0.4159 - val_loss: 0.3041 - val_recall: 0.5083\n",
      "Epoch 91/200\n",
      "64/64 [==============================] - 0s 2ms/step - loss: 0.3515 - recall: 0.4231 - val_loss: 0.3064 - val_recall: 0.5193\n",
      "Epoch 92/200\n",
      "64/64 [==============================] - 0s 2ms/step - loss: 0.3505 - recall: 0.4159 - val_loss: 0.3072 - val_recall: 0.5138\n",
      "Epoch 93/200\n",
      "64/64 [==============================] - 0s 2ms/step - loss: 0.3501 - recall: 0.4201 - val_loss: 0.3033 - val_recall: 0.5193\n",
      "Epoch 94/200\n",
      "64/64 [==============================] - 0s 2ms/step - loss: 0.3508 - recall: 0.4231 - val_loss: 0.3080 - val_recall: 0.5083\n",
      "Epoch 95/200\n",
      "64/64 [==============================] - 0s 2ms/step - loss: 0.3505 - recall: 0.4177 - val_loss: 0.3044 - val_recall: 0.5193\n",
      "Epoch 96/200\n",
      "64/64 [==============================] - 0s 2ms/step - loss: 0.3502 - recall: 0.4207 - val_loss: 0.3045 - val_recall: 0.4696\n",
      "Epoch 97/200\n",
      "64/64 [==============================] - 0s 3ms/step - loss: 0.3512 - recall: 0.4207 - val_loss: 0.3059 - val_recall: 0.5249\n",
      "Epoch 98/200\n",
      "64/64 [==============================] - 0s 3ms/step - loss: 0.3503 - recall: 0.4255 - val_loss: 0.3052 - val_recall: 0.4475\n",
      "Epoch 99/200\n",
      "64/64 [==============================] - 0s 2ms/step - loss: 0.3512 - recall: 0.4183 - val_loss: 0.3062 - val_recall: 0.5470\n",
      "Epoch 100/200\n",
      "64/64 [==============================] - 0s 2ms/step - loss: 0.3491 - recall: 0.4225 - val_loss: 0.3021 - val_recall: 0.5193\n",
      "Epoch 101/200\n",
      "64/64 [==============================] - 0s 2ms/step - loss: 0.3496 - recall: 0.4280 - val_loss: 0.3033 - val_recall: 0.5028\n",
      "Epoch 102/200\n",
      "64/64 [==============================] - 0s 2ms/step - loss: 0.3503 - recall: 0.4219 - val_loss: 0.3016 - val_recall: 0.5138\n",
      "Epoch 103/200\n",
      "64/64 [==============================] - 0s 2ms/step - loss: 0.3488 - recall: 0.4255 - val_loss: 0.3044 - val_recall: 0.5083\n",
      "Epoch 104/200\n",
      "64/64 [==============================] - 0s 2ms/step - loss: 0.3490 - recall: 0.4183 - val_loss: 0.3070 - val_recall: 0.5635\n",
      "Epoch 105/200\n",
      "64/64 [==============================] - 0s 3ms/step - loss: 0.3499 - recall: 0.4328 - val_loss: 0.3014 - val_recall: 0.5138\n",
      "Epoch 106/200\n",
      "64/64 [==============================] - 0s 2ms/step - loss: 0.3498 - recall: 0.4255 - val_loss: 0.3021 - val_recall: 0.5193\n",
      "Epoch 107/200\n",
      "64/64 [==============================] - 0s 2ms/step - loss: 0.3499 - recall: 0.4183 - val_loss: 0.3024 - val_recall: 0.5304\n",
      "Epoch 108/200\n",
      "64/64 [==============================] - 0s 2ms/step - loss: 0.3490 - recall: 0.4219 - val_loss: 0.3012 - val_recall: 0.5138\n",
      "Epoch 109/200\n",
      "64/64 [==============================] - 0s 2ms/step - loss: 0.3486 - recall: 0.4249 - val_loss: 0.3029 - val_recall: 0.5138\n",
      "Epoch 110/200\n",
      "64/64 [==============================] - 0s 2ms/step - loss: 0.3487 - recall: 0.4231 - val_loss: 0.3034 - val_recall: 0.4972\n",
      "Epoch 111/200\n",
      "64/64 [==============================] - 0s 2ms/step - loss: 0.3498 - recall: 0.4316 - val_loss: 0.3038 - val_recall: 0.5304\n",
      "Epoch 112/200\n",
      "64/64 [==============================] - 0s 2ms/step - loss: 0.3486 - recall: 0.4207 - val_loss: 0.3055 - val_recall: 0.5193\n",
      "Epoch 113/200\n",
      "64/64 [==============================] - 0s 2ms/step - loss: 0.3487 - recall: 0.4165 - val_loss: 0.3007 - val_recall: 0.5138\n",
      "Epoch 114/200\n",
      "64/64 [==============================] - 0s 2ms/step - loss: 0.3488 - recall: 0.4328 - val_loss: 0.3037 - val_recall: 0.5028\n",
      "Epoch 115/200\n",
      "64/64 [==============================] - 0s 3ms/step - loss: 0.3479 - recall: 0.4262 - val_loss: 0.3018 - val_recall: 0.4972\n",
      "Epoch 116/200\n",
      "64/64 [==============================] - 0s 2ms/step - loss: 0.3480 - recall: 0.4280 - val_loss: 0.3018 - val_recall: 0.5138\n",
      "Epoch 117/200\n",
      "64/64 [==============================] - 0s 2ms/step - loss: 0.3481 - recall: 0.4189 - val_loss: 0.3016 - val_recall: 0.5138\n",
      "Epoch 118/200\n",
      "64/64 [==============================] - 0s 3ms/step - loss: 0.3482 - recall: 0.4189 - val_loss: 0.3027 - val_recall: 0.4862\n",
      "Epoch 119/200\n"
     ]
    },
    {
     "name": "stdout",
     "output_type": "stream",
     "text": [
      "64/64 [==============================] - 0s 2ms/step - loss: 0.3482 - recall: 0.4195 - val_loss: 0.3022 - val_recall: 0.5138\n",
      "Epoch 120/200\n",
      "64/64 [==============================] - 0s 2ms/step - loss: 0.3482 - recall: 0.4231 - val_loss: 0.3018 - val_recall: 0.4751\n",
      "Epoch 121/200\n",
      "64/64 [==============================] - 0s 2ms/step - loss: 0.3482 - recall: 0.4292 - val_loss: 0.3010 - val_recall: 0.5083\n",
      "Epoch 122/200\n",
      "64/64 [==============================] - 0s 2ms/step - loss: 0.3478 - recall: 0.4262 - val_loss: 0.3002 - val_recall: 0.4972\n",
      "Epoch 123/200\n",
      "64/64 [==============================] - 0s 2ms/step - loss: 0.3478 - recall: 0.4213 - val_loss: 0.3046 - val_recall: 0.5304\n",
      "Epoch 124/200\n",
      "64/64 [==============================] - 0s 2ms/step - loss: 0.3481 - recall: 0.4249 - val_loss: 0.3025 - val_recall: 0.4530\n",
      "Epoch 125/200\n",
      "64/64 [==============================] - 0s 2ms/step - loss: 0.3477 - recall: 0.4243 - val_loss: 0.2995 - val_recall: 0.5138\n",
      "Epoch 126/200\n",
      "64/64 [==============================] - 0s 2ms/step - loss: 0.3480 - recall: 0.4195 - val_loss: 0.3006 - val_recall: 0.5138\n",
      "Epoch 127/200\n",
      "64/64 [==============================] - 0s 2ms/step - loss: 0.3472 - recall: 0.4177 - val_loss: 0.3009 - val_recall: 0.5193\n",
      "Epoch 128/200\n",
      "64/64 [==============================] - 0s 2ms/step - loss: 0.3471 - recall: 0.4298 - val_loss: 0.2991 - val_recall: 0.5138\n",
      "Epoch 129/200\n",
      "64/64 [==============================] - 0s 2ms/step - loss: 0.3468 - recall: 0.4364 - val_loss: 0.3012 - val_recall: 0.5193\n",
      "Epoch 130/200\n",
      "64/64 [==============================] - 0s 2ms/step - loss: 0.3480 - recall: 0.4195 - val_loss: 0.2983 - val_recall: 0.5138\n",
      "Epoch 131/200\n",
      "64/64 [==============================] - 0s 2ms/step - loss: 0.3474 - recall: 0.4231 - val_loss: 0.3009 - val_recall: 0.5193\n",
      "Epoch 132/200\n",
      "64/64 [==============================] - 0s 2ms/step - loss: 0.3473 - recall: 0.4249 - val_loss: 0.2997 - val_recall: 0.5193\n",
      "Epoch 133/200\n",
      "64/64 [==============================] - 0s 2ms/step - loss: 0.3467 - recall: 0.4274 - val_loss: 0.3036 - val_recall: 0.4586\n",
      "Epoch 134/200\n",
      "64/64 [==============================] - 0s 2ms/step - loss: 0.3476 - recall: 0.4201 - val_loss: 0.2985 - val_recall: 0.5083\n",
      "Epoch 135/200\n",
      "64/64 [==============================] - 0s 2ms/step - loss: 0.3463 - recall: 0.4262 - val_loss: 0.3007 - val_recall: 0.5304\n",
      "Epoch 136/200\n",
      "64/64 [==============================] - 0s 2ms/step - loss: 0.3472 - recall: 0.4358 - val_loss: 0.3007 - val_recall: 0.4751\n",
      "Epoch 137/200\n",
      "64/64 [==============================] - 0s 2ms/step - loss: 0.3476 - recall: 0.4255 - val_loss: 0.3009 - val_recall: 0.5249\n",
      "Epoch 138/200\n",
      "64/64 [==============================] - 0s 2ms/step - loss: 0.3462 - recall: 0.4304 - val_loss: 0.2994 - val_recall: 0.4917\n",
      "Epoch 139/200\n",
      "64/64 [==============================] - 0s 2ms/step - loss: 0.3459 - recall: 0.4262 - val_loss: 0.2984 - val_recall: 0.5249\n",
      "Epoch 140/200\n",
      "64/64 [==============================] - 0s 2ms/step - loss: 0.3467 - recall: 0.4274 - val_loss: 0.3015 - val_recall: 0.5249\n",
      "Epoch 141/200\n",
      "64/64 [==============================] - 0s 2ms/step - loss: 0.3463 - recall: 0.4340 - val_loss: 0.3007 - val_recall: 0.4696\n",
      "Epoch 142/200\n",
      "64/64 [==============================] - 0s 2ms/step - loss: 0.3462 - recall: 0.4219 - val_loss: 0.2966 - val_recall: 0.5138\n",
      "Epoch 143/200\n",
      "64/64 [==============================] - 0s 2ms/step - loss: 0.3459 - recall: 0.4298 - val_loss: 0.2995 - val_recall: 0.5138\n",
      "Epoch 144/200\n",
      "64/64 [==============================] - 0s 2ms/step - loss: 0.3463 - recall: 0.4292 - val_loss: 0.2998 - val_recall: 0.5193\n",
      "Epoch 145/200\n",
      "64/64 [==============================] - 0s 2ms/step - loss: 0.3460 - recall: 0.4322 - val_loss: 0.2966 - val_recall: 0.5193\n",
      "Epoch 146/200\n",
      "64/64 [==============================] - 0s 2ms/step - loss: 0.3461 - recall: 0.4249 - val_loss: 0.2975 - val_recall: 0.5083\n",
      "Epoch 147/200\n",
      "64/64 [==============================] - 0s 2ms/step - loss: 0.3452 - recall: 0.4274 - val_loss: 0.2981 - val_recall: 0.5028\n",
      "Epoch 148/200\n",
      "64/64 [==============================] - 0s 2ms/step - loss: 0.3458 - recall: 0.4268 - val_loss: 0.2976 - val_recall: 0.5304\n",
      "Epoch 149/200\n",
      "64/64 [==============================] - 0s 2ms/step - loss: 0.3465 - recall: 0.4255 - val_loss: 0.2973 - val_recall: 0.5028\n",
      "Epoch 150/200\n",
      "64/64 [==============================] - 0s 2ms/step - loss: 0.3468 - recall: 0.4322 - val_loss: 0.2958 - val_recall: 0.5193\n",
      "Epoch 151/200\n",
      "64/64 [==============================] - 0s 2ms/step - loss: 0.3455 - recall: 0.4249 - val_loss: 0.2986 - val_recall: 0.5414\n",
      "Epoch 152/200\n",
      "64/64 [==============================] - 0s 2ms/step - loss: 0.3456 - recall: 0.4316 - val_loss: 0.2960 - val_recall: 0.5193\n",
      "Epoch 153/200\n",
      "64/64 [==============================] - 0s 2ms/step - loss: 0.3456 - recall: 0.4304 - val_loss: 0.2981 - val_recall: 0.5138\n",
      "Epoch 154/200\n",
      "64/64 [==============================] - 0s 2ms/step - loss: 0.3449 - recall: 0.4274 - val_loss: 0.2975 - val_recall: 0.5249\n",
      "Epoch 155/200\n",
      "64/64 [==============================] - 0s 2ms/step - loss: 0.3462 - recall: 0.4352 - val_loss: 0.2983 - val_recall: 0.5359\n",
      "Epoch 156/200\n",
      "64/64 [==============================] - 0s 2ms/step - loss: 0.3446 - recall: 0.4213 - val_loss: 0.2973 - val_recall: 0.5083\n",
      "Epoch 157/200\n",
      "64/64 [==============================] - 0s 2ms/step - loss: 0.3451 - recall: 0.4358 - val_loss: 0.2995 - val_recall: 0.4972\n",
      "Epoch 158/200\n",
      "64/64 [==============================] - 0s 2ms/step - loss: 0.3447 - recall: 0.4401 - val_loss: 0.2990 - val_recall: 0.4807\n",
      "Epoch 159/200\n",
      "64/64 [==============================] - 0s 3ms/step - loss: 0.3459 - recall: 0.4268 - val_loss: 0.2956 - val_recall: 0.5304\n",
      "Epoch 160/200\n",
      "64/64 [==============================] - 0s 2ms/step - loss: 0.3446 - recall: 0.4328 - val_loss: 0.3002 - val_recall: 0.4475\n",
      "Epoch 161/200\n",
      "64/64 [==============================] - 0s 2ms/step - loss: 0.3454 - recall: 0.4286 - val_loss: 0.2976 - val_recall: 0.5138\n",
      "Epoch 162/200\n",
      "64/64 [==============================] - 0s 2ms/step - loss: 0.3441 - recall: 0.4249 - val_loss: 0.2975 - val_recall: 0.5304\n",
      "Epoch 163/200\n",
      "64/64 [==============================] - 0s 3ms/step - loss: 0.3446 - recall: 0.4383 - val_loss: 0.2975 - val_recall: 0.4972\n",
      "Epoch 164/200\n",
      "64/64 [==============================] - 0s 3ms/step - loss: 0.3444 - recall: 0.4280 - val_loss: 0.2981 - val_recall: 0.5359\n",
      "Epoch 165/200\n",
      "64/64 [==============================] - 0s 3ms/step - loss: 0.3442 - recall: 0.4304 - val_loss: 0.2983 - val_recall: 0.5414\n",
      "Epoch 166/200\n",
      "64/64 [==============================] - 0s 2ms/step - loss: 0.3445 - recall: 0.4383 - val_loss: 0.2974 - val_recall: 0.5193\n",
      "Epoch 167/200\n",
      "64/64 [==============================] - 0s 3ms/step - loss: 0.3448 - recall: 0.4268 - val_loss: 0.2973 - val_recall: 0.5193\n",
      "Epoch 168/200\n",
      "64/64 [==============================] - 0s 2ms/step - loss: 0.3442 - recall: 0.4310 - val_loss: 0.2975 - val_recall: 0.5249\n",
      "Epoch 169/200\n",
      "64/64 [==============================] - 0s 3ms/step - loss: 0.3442 - recall: 0.4413 - val_loss: 0.2998 - val_recall: 0.5138\n",
      "Epoch 170/200\n",
      "64/64 [==============================] - 0s 2ms/step - loss: 0.3447 - recall: 0.4364 - val_loss: 0.2957 - val_recall: 0.5193\n",
      "Epoch 171/200\n",
      "64/64 [==============================] - 0s 3ms/step - loss: 0.3456 - recall: 0.4377 - val_loss: 0.2966 - val_recall: 0.5304\n",
      "Epoch 172/200\n",
      "64/64 [==============================] - 0s 2ms/step - loss: 0.3439 - recall: 0.4401 - val_loss: 0.2972 - val_recall: 0.5249\n",
      "Epoch 173/200\n",
      "64/64 [==============================] - 0s 2ms/step - loss: 0.3450 - recall: 0.4262 - val_loss: 0.2983 - val_recall: 0.5304\n",
      "Epoch 174/200\n",
      "64/64 [==============================] - 0s 2ms/step - loss: 0.3436 - recall: 0.4352 - val_loss: 0.2957 - val_recall: 0.4862\n",
      "Epoch 174: early stopping\n"
     ]
    },
    {
     "data": {
      "text/plain": [
       "<keras.src.callbacks.History at 0x1acf9250>"
      ]
     },
     "execution_count": 23,
     "metadata": {},
     "output_type": "execute_result"
    }
   ],
   "source": [
    "model.fit(x=X_train,\n",
    "          y=y_train,\n",
    "          validation_split=.1,\n",
    "          batch_size=128,\n",
    "          epochs=200,\n",
    "          verbose=1,\n",
    "          callbacks=[early_stop])"
   ]
  },
  {
   "cell_type": "code",
   "execution_count": 24,
   "id": "bf8ae656",
   "metadata": {
    "cell_style": "center",
    "execution": {
     "iopub.execute_input": "2022-03-13T16:34:23.791205Z",
     "iopub.status.busy": "2022-03-13T16:34:23.789308Z",
     "iopub.status.idle": "2022-03-13T16:34:23.798014Z",
     "shell.execute_reply": "2022-03-13T16:34:23.798904Z",
     "shell.execute_reply.started": "2022-03-13T16:25:26.760643Z"
    },
    "hidden": true,
    "papermill": {
     "duration": 0.468168,
     "end_time": "2022-03-13T16:34:23.799157",
     "exception": false,
     "start_time": "2022-03-13T16:34:23.330989",
     "status": "completed"
    },
    "tags": []
   },
   "outputs": [
    {
     "name": "stdout",
     "output_type": "stream",
     "text": [
      "Model: \"sequential\"\n",
      "_________________________________________________________________\n",
      " Layer (type)                Output Shape              Param #   \n",
      "=================================================================\n",
      " dense (Dense)               (None, 16)                192       \n",
      "                                                                 \n",
      " dense_1 (Dense)             (None, 8)                 136       \n",
      "                                                                 \n",
      " dense_2 (Dense)             (None, 1)                 9         \n",
      "                                                                 \n",
      "=================================================================\n",
      "Total params: 337 (1.32 KB)\n",
      "Trainable params: 337 (1.32 KB)\n",
      "Non-trainable params: 0 (0.00 Byte)\n",
      "_________________________________________________________________\n"
     ]
    }
   ],
   "source": [
    "model.summary()"
   ]
  },
  {
   "cell_type": "code",
   "execution_count": 25,
   "id": "e930df78",
   "metadata": {
    "execution": {
     "iopub.execute_input": "2022-03-13T16:34:24.696587Z",
     "iopub.status.busy": "2022-03-13T16:34:24.695599Z",
     "iopub.status.idle": "2022-03-13T16:34:24.699423Z",
     "shell.execute_reply": "2022-03-13T16:34:24.699971Z",
     "shell.execute_reply.started": "2022-03-13T16:25:26.770266Z"
    },
    "papermill": {
     "duration": 0.460046,
     "end_time": "2022-03-13T16:34:24.700145",
     "exception": false,
     "start_time": "2022-03-13T16:34:24.240099",
     "status": "completed"
    },
    "tags": []
   },
   "outputs": [
    {
     "data": {
      "text/html": [
       "<div>\n",
       "<style scoped>\n",
       "    .dataframe tbody tr th:only-of-type {\n",
       "        vertical-align: middle;\n",
       "    }\n",
       "\n",
       "    .dataframe tbody tr th {\n",
       "        vertical-align: top;\n",
       "    }\n",
       "\n",
       "    .dataframe thead th {\n",
       "        text-align: right;\n",
       "    }\n",
       "</style>\n",
       "<table border=\"1\" class=\"dataframe\">\n",
       "  <thead>\n",
       "    <tr style=\"text-align: right;\">\n",
       "      <th></th>\n",
       "      <th>loss</th>\n",
       "      <th>recall</th>\n",
       "      <th>val_loss</th>\n",
       "      <th>val_recall</th>\n",
       "    </tr>\n",
       "  </thead>\n",
       "  <tbody>\n",
       "    <tr>\n",
       "      <th>0</th>\n",
       "      <td>0.629157</td>\n",
       "      <td>0.128329</td>\n",
       "      <td>0.561882</td>\n",
       "      <td>0.000000</td>\n",
       "    </tr>\n",
       "    <tr>\n",
       "      <th>1</th>\n",
       "      <td>0.524811</td>\n",
       "      <td>0.000000</td>\n",
       "      <td>0.498649</td>\n",
       "      <td>0.000000</td>\n",
       "    </tr>\n",
       "    <tr>\n",
       "      <th>2</th>\n",
       "      <td>0.498295</td>\n",
       "      <td>0.000000</td>\n",
       "      <td>0.483853</td>\n",
       "      <td>0.000000</td>\n",
       "    </tr>\n",
       "    <tr>\n",
       "      <th>3</th>\n",
       "      <td>0.484014</td>\n",
       "      <td>0.004237</td>\n",
       "      <td>0.458271</td>\n",
       "      <td>0.027624</td>\n",
       "    </tr>\n",
       "    <tr>\n",
       "      <th>4</th>\n",
       "      <td>0.466172</td>\n",
       "      <td>0.053874</td>\n",
       "      <td>0.443179</td>\n",
       "      <td>0.104972</td>\n",
       "    </tr>\n",
       "  </tbody>\n",
       "</table>\n",
       "</div>"
      ],
      "text/plain": [
       "       loss    recall  val_loss  val_recall\n",
       "0  0.629157  0.128329  0.561882    0.000000\n",
       "1  0.524811  0.000000  0.498649    0.000000\n",
       "2  0.498295  0.000000  0.483853    0.000000\n",
       "3  0.484014  0.004237  0.458271    0.027624\n",
       "4  0.466172  0.053874  0.443179    0.104972"
      ]
     },
     "execution_count": 25,
     "metadata": {},
     "output_type": "execute_result"
    }
   ],
   "source": [
    "loss_df = pd.DataFrame(model.history.history)\n",
    "loss_df.head()"
   ]
  },
  {
   "cell_type": "code",
   "execution_count": 26,
   "id": "ea555d74",
   "metadata": {
    "cell_style": "split",
    "execution": {
     "iopub.execute_input": "2022-03-13T16:34:25.580057Z",
     "iopub.status.busy": "2022-03-13T16:34:25.577855Z",
     "iopub.status.idle": "2022-03-13T16:34:25.963399Z",
     "shell.execute_reply": "2022-03-13T16:34:25.964046Z",
     "shell.execute_reply.started": "2022-03-13T16:25:26.784579Z"
    },
    "executionInfo": {
     "elapsed": 809,
     "status": "ok",
     "timestamp": 1610205470123,
     "user": {
      "displayName": "Richard C",
      "photoUrl": "",
      "userId": "08040814671867660929"
     },
     "user_tz": -180
    },
    "hidden": true,
    "id": "vQIbjGQduQpQ",
    "papermill": {
     "duration": 0.827658,
     "end_time": "2022-03-13T16:34:25.964272",
     "exception": false,
     "start_time": "2022-03-13T16:34:25.136614",
     "status": "completed"
    },
    "tags": []
   },
   "outputs": [
    {
     "data": {
      "text/plain": [
       "<Axes: >"
      ]
     },
     "execution_count": 26,
     "metadata": {},
     "output_type": "execute_result"
    },
    {
     "data": {
      "image/png": "[encoded data removed]",
      "text/plain": [
       "<Figure size 640x480 with 1 Axes>"
      ]
     },
     "metadata": {},
     "output_type": "display_data"
    }
   ],
   "source": [
    "loss_df.plot()"
   ]
  },
  {
   "cell_type": "code",
   "execution_count": 27,
   "id": "b5d1ea2a",
   "metadata": {
    "cell_style": "split",
    "execution": {
     "iopub.execute_input": "2022-03-13T16:34:26.852629Z",
     "iopub.status.busy": "2022-03-13T16:34:26.851495Z",
     "iopub.status.idle": "2022-03-13T16:34:27.015757Z",
     "shell.execute_reply": "2022-03-13T16:34:27.016543Z",
     "shell.execute_reply.started": "2022-03-13T16:26:03.342983Z"
    },
    "hidden": true,
    "papermill": {
     "duration": 0.612851,
     "end_time": "2022-03-13T16:34:27.016844",
     "exception": false,
     "start_time": "2022-03-13T16:34:26.403993",
     "status": "completed"
    },
    "scrolled": true,
    "tags": []
   },
   "outputs": [
    {
     "name": "stdout",
     "output_type": "stream",
     "text": [
      "32/32 [==============================] - 0s 1ms/step\n",
      "[[772  24]\n",
      " [119  85]]\n",
      "              precision    recall  f1-score   support\n",
      "\n",
      "           0       0.87      0.97      0.92       796\n",
      "           1       0.78      0.42      0.54       204\n",
      "\n",
      "    accuracy                           0.86      1000\n",
      "   macro avg       0.82      0.69      0.73      1000\n",
      "weighted avg       0.85      0.86      0.84      1000\n",
      "\n"
     ]
    }
   ],
   "source": [
    "from sklearn.metrics import confusion_matrix, classification_report\n",
    "y_pred = (model.predict(X_test) > 0.5).astype(\"int32\")\n",
    "print(confusion_matrix(y_test, y_pred))\n",
    "print(classification_report(y_test, y_pred))"
   ]
  },
  {
   "cell_type": "markdown",
   "id": "3740fb65",
   "metadata": {
    "heading_collapsed": true,
    "papermill": {
     "duration": 0.434957,
     "end_time": "2022-03-13T16:34:27.896376",
     "exception": false,
     "start_time": "2022-03-13T16:34:27.461419",
     "status": "completed"
    },
    "tags": []
   },
   "source": [
    "### ROC (Receiver Operating Curve) and AUC (Area Under Curve) for model"
   ]
  },
  {
   "cell_type": "code",
   "execution_count": 28,
   "id": "4bef2e51",
   "metadata": {
    "cell_style": "split",
    "execution": {
     "iopub.execute_input": "2022-03-13T16:34:28.783997Z",
     "iopub.status.busy": "2022-03-13T16:34:28.782847Z",
     "iopub.status.idle": "2022-03-13T16:34:29.144833Z",
     "shell.execute_reply": "2022-03-13T16:34:29.145357Z",
     "shell.execute_reply.started": "2022-03-13T16:26:03.506882Z"
    },
    "hidden": true,
    "papermill": {
     "duration": 0.812776,
     "end_time": "2022-03-13T16:34:29.145544",
     "exception": false,
     "start_time": "2022-03-13T16:34:28.332768",
     "status": "completed"
    },
    "tags": []
   },
   "outputs": [
    {
     "name": "stdout",
     "output_type": "stream",
     "text": [
      "32/32 [==============================] - 0s 1ms/step\n"
     ]
    },
    {
     "data": {
      "image/png": "[encoded data removed]",
      "text/plain": [
       "<Figure size 640x480 with 1 Axes>"
      ]
     },
     "metadata": {},
     "output_type": "display_data"
    }
   ],
   "source": [
    "from sklearn.metrics import precision_recall_curve\n",
    "y_pred_proba = model.predict(X_test)\n",
    "precisions, recalls, thresholds = precision_recall_curve(y_test, y_pred_proba)\n",
    "plt.plot(recalls, precisions, label='ANN')\n",
    "plt.xlabel('recalls')\n",
    "plt.ylabel('precisions')\n",
    "plt.title('Precision-Recall curve')\n",
    "plt.show()\n",
    "# roc curve, sınıflandırma performansını gösterir"
   ]
  },
  {
   "cell_type": "code",
   "execution_count": 29,
   "id": "506ed2db",
   "metadata": {
    "cell_style": "split",
    "execution": {
     "iopub.execute_input": "2022-03-13T16:34:30.039766Z",
     "iopub.status.busy": "2022-03-13T16:34:30.038685Z",
     "iopub.status.idle": "2022-03-13T16:34:30.047243Z",
     "shell.execute_reply": "2022-03-13T16:34:30.046661Z",
     "shell.execute_reply.started": "2022-03-13T16:26:03.813490Z"
    },
    "hidden": true,
    "papermill": {
     "duration": 0.460725,
     "end_time": "2022-03-13T16:34:30.047387",
     "exception": false,
     "start_time": "2022-03-13T16:34:29.586662",
     "status": "completed"
    },
    "scrolled": true,
    "tags": []
   },
   "outputs": [
    {
     "data": {
      "text/plain": [
       "0.6736252874027479"
      ]
     },
     "execution_count": 29,
     "metadata": {},
     "output_type": "execute_result"
    }
   ],
   "source": [
    "from sklearn.metrics import average_precision_score\n",
    "average_precision_score(y_test, y_pred_proba)"
   ]
  },
  {
   "cell_type": "markdown",
   "id": "1a0da3b9",
   "metadata": {
    "papermill": {
     "duration": 0.44284,
     "end_time": "2022-03-13T16:34:30.931533",
     "exception": false,
     "start_time": "2022-03-13T16:34:30.488693",
     "status": "completed"
    },
    "tags": []
   },
   "source": [
    "### with class_weigth"
   ]
  },
  {
   "cell_type": "code",
   "execution_count": 30,
   "id": "460b7520",
   "metadata": {
    "cell_style": "split",
    "execution": {
     "iopub.execute_input": "2022-03-13T16:34:31.883556Z",
     "iopub.status.busy": "2022-03-13T16:34:31.882465Z",
     "iopub.status.idle": "2022-03-13T16:34:31.905328Z",
     "shell.execute_reply": "2022-03-13T16:34:31.904788Z",
     "shell.execute_reply.started": "2022-03-13T16:26:03.825443Z"
    },
    "papermill": {
     "duration": 0.528825,
     "end_time": "2022-03-13T16:34:31.905472",
     "exception": false,
     "start_time": "2022-03-13T16:34:31.376647",
     "status": "completed"
    },
    "tags": []
   },
   "outputs": [],
   "source": [
    "model = Sequential()\n",
    "\n",
    "tf.random.set_seed(seed)\n",
    "\n",
    "model.add(Dense(16, activation=\"relu\"))\n",
    "model.add(Dense(8, activation=\"relu\"))\n",
    "model.add(Dense(1, activation=\"sigmoid\"))\n",
    "\n",
    "opt = Adam(learning_rate=0.001)\n",
    "model.compile(optimizer=opt, \n",
    "              loss=\"binary_crossentropy\",\n",
    "              metrics=[\"Recall\"])"
   ]
  },
  {
   "cell_type": "code",
   "execution_count": 31,
   "id": "6728edd5",
   "metadata": {
    "execution": {
     "iopub.execute_input": "2022-03-13T16:34:33.125043Z",
     "iopub.status.busy": "2022-03-13T16:34:33.122331Z",
     "iopub.status.idle": "2022-03-13T16:34:33.132339Z",
     "shell.execute_reply": "2022-03-13T16:34:33.133007Z",
     "shell.execute_reply.started": "2022-03-13T16:26:03.851337Z"
    },
    "papermill": {
     "duration": 0.778911,
     "end_time": "2022-03-13T16:34:33.133215",
     "exception": false,
     "start_time": "2022-03-13T16:34:32.354304",
     "status": "completed"
    },
    "tags": []
   },
   "outputs": [
    {
     "data": {
      "text/plain": [
       "{0: 0.6278777731268314, 1: 2.454991816693944}"
      ]
     },
     "execution_count": 31,
     "metadata": {},
     "output_type": "execute_result"
    }
   ],
   "source": [
    "from sklearn.utils import class_weight\n",
    "\n",
    "class_weights = class_weight.compute_class_weight('balanced',\n",
    "                                                  classes=np.unique(y_train),\n",
    "                                                  y=y_train)\n",
    "\n",
    "class_weights = {0: class_weights[0], 1: class_weights[1]}\n",
    "class_weights"
   ]
  },
  {
   "cell_type": "code",
   "execution_count": null,
   "id": "399b81bc",
   "metadata": {
    "execution": {
     "iopub.execute_input": "2022-03-13T16:34:34.059885Z",
     "iopub.status.busy": "2022-03-13T16:34:34.058808Z",
     "iopub.status.idle": "2022-03-13T16:34:57.425839Z",
     "shell.execute_reply": "2022-03-13T16:34:57.426424Z",
     "shell.execute_reply.started": "2022-03-13T16:26:03.865961Z"
    },
    "papermill": {
     "duration": 23.820803,
     "end_time": "2022-03-13T16:34:57.426628",
     "exception": false,
     "start_time": "2022-03-13T16:34:33.605825",
     "status": "completed"
    },
    "scrolled": true,
    "tags": []
   },
   "outputs": [
    {
     "name": "stdout",
     "output_type": "stream",
     "text": [
      "Epoch 1/200\n",
      "64/64 [==============================] - 1s 4ms/step - loss: 0.7205 - recall: 0.5278 - val_loss: 0.6981 - val_recall: 0.4917\n",
      "Epoch 2/200\n",
      "64/64 [==============================] - 0s 2ms/step - loss: 0.6922 - recall: 0.4897 - val_loss: 0.6842 - val_recall: 0.5249\n",
      "Epoch 3/200\n",
      "64/64 [==============================] - 0s 2ms/step - loss: 0.6799 - recall: 0.5248 - val_loss: 0.6542 - val_recall: 0.5083\n",
      "Epoch 4/200\n",
      "64/64 [==============================] - 0s 2ms/step - loss: 0.6631 - recall: 0.5720 - val_loss: 0.6053 - val_recall: 0.5193\n",
      "Epoch 5/200\n",
      "64/64 [==============================] - 0s 2ms/step - loss: 0.6439 - recall: 0.6144 - val_loss: 0.6358 - val_recall: 0.7072\n",
      "Epoch 6/200\n",
      "64/64 [==============================] - 0s 2ms/step - loss: 0.6262 - recall: 0.6616 - val_loss: 0.5796 - val_recall: 0.6409\n",
      "Epoch 7/200\n",
      "64/64 [==============================] - 0s 2ms/step - loss: 0.6131 - recall: 0.6695 - val_loss: 0.6039 - val_recall: 0.7403\n",
      "Epoch 8/200\n",
      "64/64 [==============================] - 0s 2ms/step - loss: 0.6014 - recall: 0.6707 - val_loss: 0.5914 - val_recall: 0.7459\n",
      "Epoch 9/200\n",
      "64/64 [==============================] - 0s 2ms/step - loss: 0.5929 - recall: 0.6883 - val_loss: 0.6087 - val_recall: 0.7790\n",
      "Epoch 10/200\n",
      "64/64 [==============================] - 0s 2ms/step - loss: 0.5852 - recall: 0.6840 - val_loss: 0.5752 - val_recall: 0.7459\n",
      "Epoch 11/200\n",
      "64/64 [==============================] - 0s 2ms/step - loss: 0.5798 - recall: 0.6798 - val_loss: 0.5546 - val_recall: 0.7403\n",
      "Epoch 12/200\n",
      "64/64 [==============================] - 0s 2ms/step - loss: 0.5728 - recall: 0.7082 - val_loss: 0.5676 - val_recall: 0.7735\n",
      "Epoch 13/200\n",
      "64/64 [==============================] - 0s 2ms/step - loss: 0.5670 - recall: 0.6919 - val_loss: 0.6087 - val_recall: 0.8232\n",
      "Epoch 14/200\n",
      "64/64 [==============================] - 0s 2ms/step - loss: 0.5627 - recall: 0.7064 - val_loss: 0.5255 - val_recall: 0.7293\n",
      "Epoch 15/200\n",
      "64/64 [==============================] - 0s 2ms/step - loss: 0.5568 - recall: 0.7070 - val_loss: 0.5305 - val_recall: 0.7348\n",
      "Epoch 16/200\n",
      "64/64 [==============================] - 0s 2ms/step - loss: 0.5531 - recall: 0.7022 - val_loss: 0.5381 - val_recall: 0.7624\n",
      "Epoch 17/200\n",
      "64/64 [==============================] - 0s 2ms/step - loss: 0.5476 - recall: 0.7094 - val_loss: 0.4963 - val_recall: 0.7072\n",
      "Epoch 18/200\n",
      "64/64 [==============================] - 0s 2ms/step - loss: 0.5432 - recall: 0.7107 - val_loss: 0.5040 - val_recall: 0.7182\n",
      "Epoch 19/200\n",
      "64/64 [==============================] - 0s 3ms/step - loss: 0.5393 - recall: 0.7064 - val_loss: 0.5236 - val_recall: 0.7680\n",
      "Epoch 20/200\n",
      "64/64 [==============================] - 0s 3ms/step - loss: 0.5351 - recall: 0.7149 - val_loss: 0.5030 - val_recall: 0.7624\n",
      "Epoch 21/200\n",
      "64/64 [==============================] - 0s 3ms/step - loss: 0.5307 - recall: 0.7125 - val_loss: 0.5269 - val_recall: 0.7956\n",
      "Epoch 22/200\n",
      "64/64 [==============================] - 0s 2ms/step - loss: 0.5274 - recall: 0.7191 - val_loss: 0.4864 - val_recall: 0.7403\n",
      "Epoch 23/200\n",
      "64/64 [==============================] - 0s 2ms/step - loss: 0.5253 - recall: 0.7203 - val_loss: 0.4977 - val_recall: 0.7569\n",
      "Epoch 24/200\n",
      "64/64 [==============================] - 0s 2ms/step - loss: 0.5222 - recall: 0.7113 - val_loss: 0.4857 - val_recall: 0.7569\n",
      "Epoch 25/200\n",
      "64/64 [==============================] - 0s 2ms/step - loss: 0.5177 - recall: 0.7173 - val_loss: 0.4993 - val_recall: 0.7956\n",
      "Epoch 26/200\n",
      "64/64 [==============================] - 0s 2ms/step - loss: 0.5161 - recall: 0.7161 - val_loss: 0.4574 - val_recall: 0.7293\n",
      "Epoch 27/200\n",
      "64/64 [==============================] - 0s 2ms/step - loss: 0.5130 - recall: 0.7222 - val_loss: 0.4922 - val_recall: 0.7956\n",
      "Epoch 28/200\n",
      "64/64 [==============================] - 0s 2ms/step - loss: 0.5128 - recall: 0.7337 - val_loss: 0.4831 - val_recall: 0.7901\n",
      "Epoch 29/200\n",
      "64/64 [==============================] - 0s 2ms/step - loss: 0.5095 - recall: 0.7185 - val_loss: 0.4877 - val_recall: 0.7956\n",
      "Epoch 30/200\n",
      "64/64 [==============================] - 0s 2ms/step - loss: 0.5067 - recall: 0.7367 - val_loss: 0.5226 - val_recall: 0.8287\n",
      "Epoch 31/200\n",
      "64/64 [==============================] - 0s 2ms/step - loss: 0.5057 - recall: 0.7318 - val_loss: 0.4954 - val_recall: 0.7956\n",
      "Epoch 32/200\n",
      "64/64 [==============================] - 0s 2ms/step - loss: 0.5032 - recall: 0.7264 - val_loss: 0.4548 - val_recall: 0.7680\n",
      "Epoch 33/200\n",
      "64/64 [==============================] - 0s 2ms/step - loss: 0.5010 - recall: 0.7379 - val_loss: 0.4555 - val_recall: 0.7624\n",
      "Epoch 34/200\n",
      "64/64 [==============================] - 0s 2ms/step - loss: 0.4993 - recall: 0.7234 - val_loss: 0.4564 - val_recall: 0.7735\n",
      "Epoch 35/200\n",
      "64/64 [==============================] - 0s 2ms/step - loss: 0.4991 - recall: 0.7300 - val_loss: 0.4941 - val_recall: 0.8122\n",
      "Epoch 36/200\n",
      "64/64 [==============================] - 0s 2ms/step - loss: 0.4965 - recall: 0.7397 - val_loss: 0.4347 - val_recall: 0.7624\n",
      "Epoch 37/200\n",
      "64/64 [==============================] - 0s 2ms/step - loss: 0.4980 - recall: 0.7258 - val_loss: 0.4481 - val_recall: 0.7680\n",
      "Epoch 38/200\n",
      "64/64 [==============================] - 0s 2ms/step - loss: 0.4950 - recall: 0.7421 - val_loss: 0.4598 - val_recall: 0.7845\n",
      "Epoch 39/200\n",
      "64/64 [==============================] - 0s 2ms/step - loss: 0.4930 - recall: 0.7397 - val_loss: 0.4436 - val_recall: 0.7680\n",
      "Epoch 40/200\n",
      "64/64 [==============================] - 0s 2ms/step - loss: 0.4925 - recall: 0.7488 - val_loss: 0.4353 - val_recall: 0.7624\n",
      "Epoch 41/200\n",
      "64/64 [==============================] - 0s 2ms/step - loss: 0.4919 - recall: 0.7312 - val_loss: 0.4644 - val_recall: 0.8066\n",
      "Epoch 42/200\n",
      "64/64 [==============================] - 0s 2ms/step - loss: 0.4920 - recall: 0.7458 - val_loss: 0.4188 - val_recall: 0.7680\n",
      "Epoch 43/200\n",
      "64/64 [==============================] - 0s 2ms/step - loss: 0.4897 - recall: 0.7391 - val_loss: 0.4458 - val_recall: 0.7845\n",
      "Epoch 44/200\n",
      "64/64 [==============================] - 0s 2ms/step - loss: 0.4899 - recall: 0.7452 - val_loss: 0.4390 - val_recall: 0.7735\n",
      "Epoch 45/200\n",
      "64/64 [==============================] - 0s 2ms/step - loss: 0.4880 - recall: 0.7518 - val_loss: 0.4578 - val_recall: 0.7956\n",
      "Epoch 46/200\n",
      "64/64 [==============================] - 0s 2ms/step - loss: 0.4879 - recall: 0.7488 - val_loss: 0.4425 - val_recall: 0.7845\n",
      "Epoch 47/200\n",
      "64/64 [==============================] - 0s 2ms/step - loss: 0.4872 - recall: 0.7524 - val_loss: 0.4377 - val_recall: 0.7845\n",
      "Epoch 48/200\n",
      "64/64 [==============================] - 0s 2ms/step - loss: 0.4871 - recall: 0.7530 - val_loss: 0.4449 - val_recall: 0.8066\n",
      "Epoch 49/200\n",
      "64/64 [==============================] - 0s 2ms/step - loss: 0.4861 - recall: 0.7512 - val_loss: 0.4184 - val_recall: 0.7680\n",
      "Epoch 50/200\n",
      "64/64 [==============================] - 0s 2ms/step - loss: 0.4855 - recall: 0.7415 - val_loss: 0.4350 - val_recall: 0.7790\n",
      "Epoch 51/200\n",
      "64/64 [==============================] - 0s 2ms/step - loss: 0.4839 - recall: 0.7548 - val_loss: 0.4290 - val_recall: 0.7845\n",
      "Epoch 52/200\n",
      "64/64 [==============================] - 0s 2ms/step - loss: 0.4851 - recall: 0.7427 - val_loss: 0.4874 - val_recall: 0.8398\n",
      "Epoch 53/200\n",
      "64/64 [==============================] - 0s 2ms/step - loss: 0.4843 - recall: 0.7561 - val_loss: 0.4038 - val_recall: 0.7514\n",
      "Epoch 54/200\n",
      "64/64 [==============================] - 0s 2ms/step - loss: 0.4846 - recall: 0.7494 - val_loss: 0.4060 - val_recall: 0.7514\n",
      "Epoch 55/200\n",
      "64/64 [==============================] - 0s 2ms/step - loss: 0.4838 - recall: 0.7518 - val_loss: 0.4279 - val_recall: 0.7735\n",
      "Epoch 56/200\n",
      "64/64 [==============================] - 0s 2ms/step - loss: 0.4834 - recall: 0.7567 - val_loss: 0.4730 - val_recall: 0.8343\n",
      "Epoch 57/200\n",
      "64/64 [==============================] - 0s 2ms/step - loss: 0.4825 - recall: 0.7500 - val_loss: 0.4661 - val_recall: 0.8287\n",
      "Epoch 58/200\n",
      "64/64 [==============================] - 0s 2ms/step - loss: 0.4812 - recall: 0.7542 - val_loss: 0.4240 - val_recall: 0.7845\n",
      "Epoch 59/200\n",
      "64/64 [==============================] - 0s 2ms/step - loss: 0.4818 - recall: 0.7452 - val_loss: 0.4587 - val_recall: 0.8287\n",
      "Epoch 60/200\n"
     ]
    },
    {
     "name": "stdout",
     "output_type": "stream",
     "text": [
      "64/64 [==============================] - 0s 2ms/step - loss: 0.4809 - recall: 0.7470 - val_loss: 0.4264 - val_recall: 0.7845\n",
      "Epoch 61/200\n",
      "64/64 [==============================] - 0s 2ms/step - loss: 0.4825 - recall: 0.7427 - val_loss: 0.4210 - val_recall: 0.7735\n",
      "Epoch 62/200\n",
      "64/64 [==============================] - 0s 2ms/step - loss: 0.4789 - recall: 0.7554 - val_loss: 0.4936 - val_recall: 0.8343\n",
      "Epoch 63/200\n",
      "64/64 [==============================] - 0s 2ms/step - loss: 0.4791 - recall: 0.7452 - val_loss: 0.4476 - val_recall: 0.8232\n",
      "Epoch 64/200\n",
      "64/64 [==============================] - 0s 2ms/step - loss: 0.4796 - recall: 0.7494 - val_loss: 0.4574 - val_recall: 0.8287\n",
      "Epoch 65/200\n",
      " 1/64 [..............................] - ETA: 0s - loss: 0.4919 - recall: 0.8148"
     ]
    }
   ],
   "source": [
    "model.fit(x=X_train,\n",
    "          y=y_train,\n",
    "          validation_split=.1,\n",
    "          batch_size=128,\n",
    "          epochs=200,\n",
    "          verbose=1,\n",
    "          callbacks=[early_stop],\n",
    "          class_weight=class_weights)"
   ]
  },
  {
   "cell_type": "code",
   "execution_count": null,
   "id": "a573a4ec",
   "metadata": {
    "cell_style": "split",
    "execution": {
     "iopub.execute_input": "2022-03-13T16:34:58.713181Z",
     "iopub.status.busy": "2022-03-13T16:34:58.711910Z",
     "iopub.status.idle": "2022-03-13T16:34:59.102093Z",
     "shell.execute_reply": "2022-03-13T16:34:59.102644Z",
     "shell.execute_reply.started": "2022-03-13T16:26:20.601131Z"
    },
    "executionInfo": {
     "elapsed": 809,
     "status": "ok",
     "timestamp": 1610205470123,
     "user": {
      "displayName": "Richard C",
      "photoUrl": "",
      "userId": "08040814671867660929"
     },
     "user_tz": -180
    },
    "id": "vQIbjGQduQpQ",
    "papermill": {
     "duration": 1.039938,
     "end_time": "2022-03-13T16:34:59.102821",
     "exception": false,
     "start_time": "2022-03-13T16:34:58.062883",
     "status": "completed"
    },
    "tags": []
   },
   "outputs": [],
   "source": [
    "loss_df = pd.DataFrame(model.history.history)\n",
    "loss_df.plot()"
   ]
  },
  {
   "cell_type": "code",
   "execution_count": null,
   "id": "1be6f388",
   "metadata": {
    "cell_style": "split",
    "execution": {
     "iopub.execute_input": "2022-03-13T16:35:00.378005Z",
     "iopub.status.busy": "2022-03-13T16:35:00.376927Z",
     "iopub.status.idle": "2022-03-13T16:35:00.526588Z",
     "shell.execute_reply": "2022-03-13T16:35:00.526013Z",
     "shell.execute_reply.started": "2022-03-13T16:26:25.133970Z"
    },
    "papermill": {
     "duration": 0.791041,
     "end_time": "2022-03-13T16:35:00.526733",
     "exception": false,
     "start_time": "2022-03-13T16:34:59.735692",
     "status": "completed"
    },
    "tags": []
   },
   "outputs": [],
   "source": [
    "y_pred = (model.predict(X_test) > 0.5).astype(\"int32\")\n",
    "print(confusion_matrix(y_test, y_pred))\n",
    "print(classification_report(y_test, y_pred))"
   ]
  },
  {
   "cell_type": "markdown",
   "id": "b4d2e441",
   "metadata": {
    "papermill": {
     "duration": 0.646615,
     "end_time": "2022-03-13T16:35:01.816582",
     "exception": false,
     "start_time": "2022-03-13T16:35:01.169967",
     "status": "completed"
    },
    "tags": []
   },
   "source": [
    "### ROC (Receiver Operating Curve) and AUC (Area Under Curve) for model"
   ]
  },
  {
   "cell_type": "code",
   "execution_count": null,
   "id": "6bbf3113",
   "metadata": {
    "cell_style": "split",
    "execution": {
     "iopub.execute_input": "2022-03-13T16:35:03.097454Z",
     "iopub.status.busy": "2022-03-13T16:35:03.096379Z",
     "iopub.status.idle": "2022-03-13T16:35:03.544238Z",
     "shell.execute_reply": "2022-03-13T16:35:03.543655Z",
     "shell.execute_reply.started": "2022-03-13T16:26:25.231910Z"
    },
    "papermill": {
     "duration": 1.090036,
     "end_time": "2022-03-13T16:35:03.544400",
     "exception": false,
     "start_time": "2022-03-13T16:35:02.454364",
     "status": "completed"
    },
    "tags": []
   },
   "outputs": [],
   "source": [
    "y_pred_proba = model.predict(X_test)\n",
    "precisions, recalls, thresholds = precision_recall_curve(y_test, y_pred_proba)\n",
    "plt.plot(recalls, precisions, label='ANN')\n",
    "plt.xlabel('recalls')\n",
    "plt.ylabel('precisions')\n",
    "plt.title('Precision-Recall curve')\n",
    "plt.show()\n",
    "# roc curve, sınıflandırma performansını gösterir"
   ]
  },
  {
   "cell_type": "code",
   "execution_count": null,
   "id": "737016ce",
   "metadata": {
    "cell_style": "split",
    "execution": {
     "iopub.execute_input": "2022-03-13T16:35:04.860022Z",
     "iopub.status.busy": "2022-03-13T16:35:04.858995Z",
     "iopub.status.idle": "2022-03-13T16:35:04.866020Z",
     "shell.execute_reply": "2022-03-13T16:35:04.866575Z",
     "shell.execute_reply.started": "2022-03-13T16:26:25.512499Z"
    },
    "papermill": {
     "duration": 0.67062,
     "end_time": "2022-03-13T16:35:04.866738",
     "exception": false,
     "start_time": "2022-03-13T16:35:04.196118",
     "status": "completed"
    },
    "tags": []
   },
   "outputs": [],
   "source": [
    "average_precision_score(y_test, y_pred_proba)   #0.692983743350624"
   ]
  },
  {
   "cell_type": "code",
   "execution_count": null,
   "id": "26a4230e",
   "metadata": {},
   "outputs": [],
   "source": [
    "from tensorflow.keras.optimizers import Adadelta, RMSprop, Nadam, Adam, SGD\n",
    "def build_classifier(optimizer,learn_rate):\n",
    "    classifier = Sequential()\n",
    "    classifier.add(Dense(units=16, activation='relu'))\n",
    "    classifier.add(Dense(units=8, activation='relu'))\n",
    "    classifier.add(Dense(units=1, activation='sigmoid'))\n",
    "    classifier.compile(optimizer=optimizer(learn_rate),\n",
    "                       loss='binary_crossentropy',\n",
    "                       metrics=['Recall'])\n",
    "    return classifier"
   ]
  },
  {
   "cell_type": "code",
   "execution_count": null,
   "id": "7332d9b1",
   "metadata": {},
   "outputs": [],
   "source": [
    "class_weights"
   ]
  },
  {
   "cell_type": "code",
   "execution_count": null,
   "id": "98ee9950",
   "metadata": {
    "execution": {
     "iopub.execute_input": "2022-03-13T16:35:09.057741Z",
     "iopub.status.busy": "2022-03-13T16:35:09.056882Z",
     "iopub.status.idle": "2022-03-13T16:35:09.061376Z",
     "shell.execute_reply": "2022-03-13T16:35:09.060735Z",
     "shell.execute_reply.started": "2022-03-13T16:26:32.656434Z"
    },
    "papermill": {
     "duration": 0.654164,
     "end_time": "2022-03-13T16:35:09.061513",
     "exception": false,
     "start_time": "2022-03-13T16:35:08.407349",
     "status": "completed"
    },
    "tags": []
   },
   "outputs": [],
   "source": [
    "from sklearn.model_selection import GridSearchCV\n",
    "\n",
    "tf.random.set_seed(seed)\n",
    "\n",
    "classifier = KerasClassifier(build_fn=build_classifier, epochs=200)\n",
    "parameters = {\n",
    "    'batch_size': [128, 256],\n",
    "    'optimizer': [Adam, RMSprop, Nadam, Adadelta, SGD],\n",
    "    'learn_rate': [0.001, 0.003, 0.005]\n",
    "}\n",
    "grid_model = GridSearchCV(estimator=classifier,\n",
    "                          param_grid=parameters,\n",
    "                          scoring='recall',\n",
    "                          cv=5,\n",
    "                          n_jobs=-1,\n",
    "                          verbose=0)\n",
    "#grid_model.fit(X_train,y_train, class_weight=class_weights)"
   ]
  },
  {
   "cell_type": "code",
   "execution_count": null,
   "id": "14ec07c4",
   "metadata": {},
   "outputs": [],
   "source": [
    "# Create a custom wrapper class\n",
    "class CustomKerasClassifier(KerasClassifier):\n",
    "    def __init__(self, build_fn=None, learn_rate=0.001, **kwargs):\n",
    "        self.learn_rate = learn_rate\n",
    "        super(CustomKerasClassifier, self).__init__(build_fn=build_fn, **kwargs)\n",
    "    \n",
    "    def build_fn(self):\n",
    "        return build_classifier(learn_rate=self.learn_rate)\n",
    "\n",
    "# Create a CustomKerasClassifier instance\n",
    "classifier = CustomKerasClassifier(epochs=200, batch_size=128)\n",
    "\n",
    "# Define the parameters grid for grid search\n",
    "parameters = {\n",
    "    'learn_rate': [0.001, 0.003, 0.005],\n",
    "    'batch_size': [128, 256]\n",
    "}"
   ]
  },
  {
   "cell_type": "code",
   "execution_count": null,
   "id": "6dd2a38a",
   "metadata": {},
   "outputs": [],
   "source": [
    "class_weights"
   ]
  },
  {
   "cell_type": "code",
   "execution_count": null,
   "id": "46484cb8",
   "metadata": {},
   "outputs": [],
   "source": [
    "\n",
    "\n",
    "classifier = KerasClassifier(build_fn=build_classifier, epochs=200)\n",
    "parameters = {\n",
    "    'batch_size': [128, 256],\n",
    "    'optimizer': [Adam, RMSprop, Nadam, Adadelta, SGD],\n",
    "    'learn_rate': [0.001, 0.003, 0.005]\n",
    "}\n",
    "grid_model = GridSearchCV(estimator=classifier,\n",
    "                          param_grid=parameters,\n",
    "                          scoring='recall',\n",
    "                          cv=5,\n",
    "                          n_jobs=-1,\n",
    "                          verbose=0)"
   ]
  },
  {
   "cell_type": "code",
   "execution_count": null,
   "id": "7c1207ca",
   "metadata": {},
   "outputs": [],
   "source": [
    "#grid_model.fit(X_train, y_train, class_weight=class_weights)"
   ]
  },
  {
   "cell_type": "markdown",
   "id": "de8b15ae",
   "metadata": {
    "papermill": {
     "duration": 1.271435,
     "end_time": "2022-03-13T16:37:02.549812",
     "exception": false,
     "start_time": "2022-03-13T16:37:01.278377",
     "status": "completed"
    },
    "tags": []
   },
   "source": [
    "### ROC (Receiver Operating Curve) and AUC (Area Under Curve) for grid_model"
   ]
  },
  {
   "cell_type": "code",
   "execution_count": null,
   "id": "b76752e9",
   "metadata": {
    "cell_style": "split",
    "execution": {
     "iopub.execute_input": "2022-03-13T16:37:05.149773Z",
     "iopub.status.busy": "2022-03-13T16:37:05.148687Z",
     "iopub.status.idle": "2022-03-13T16:37:05.817184Z",
     "shell.execute_reply": "2022-03-13T16:37:05.817773Z",
     "shell.execute_reply.started": "2022-03-13T16:28:48.240724Z"
    },
    "papermill": {
     "duration": 1.951563,
     "end_time": "2022-03-13T16:37:05.817971",
     "exception": false,
     "start_time": "2022-03-13T16:37:03.866408",
     "status": "completed"
    },
    "tags": []
   },
   "outputs": [],
   "source": [
    "#y_pred_proba = grid_model.predict(X_test)\n",
    "#precisions, recalls, thresholds = precision_recall_curve(y_test, y_pred_proba)\n",
    "#plt.plot(recalls, precisions, label='ANN')\n",
    "#plt.xlabel('recalls')\n",
    "#plt.ylabel('precisions')\n",
    "#plt.title('Precision-Recall curve')\n",
    "#plt.show()"
   ]
  },
  {
   "cell_type": "code",
   "execution_count": null,
   "id": "71741108",
   "metadata": {
    "cell_style": "split",
    "execution": {
     "iopub.execute_input": "2022-03-13T16:37:08.776541Z",
     "iopub.status.busy": "2022-03-13T16:37:08.773090Z",
     "iopub.status.idle": "2022-03-13T16:37:08.781676Z",
     "shell.execute_reply": "2022-03-13T16:37:08.782155Z",
     "shell.execute_reply.started": "2022-03-13T16:28:49.072121Z"
    },
    "papermill": {
     "duration": 1.292719,
     "end_time": "2022-03-13T16:37:08.782344",
     "exception": false,
     "start_time": "2022-03-13T16:37:07.489625",
     "status": "completed"
    },
    "scrolled": true,
    "tags": []
   },
   "outputs": [],
   "source": [
    "average_precision_score(y_test, y_pred_proba)"
   ]
  },
  {
   "cell_type": "markdown",
   "id": "c0183755",
   "metadata": {
    "papermill": {
     "duration": 1.269124,
     "end_time": "2022-03-13T16:37:11.320422",
     "exception": false,
     "start_time": "2022-03-13T16:37:10.051298",
     "status": "completed"
    },
    "tags": []
   },
   "source": [
    "## Final Model and Model Deployment"
   ]
  },
  {
   "cell_type": "code",
   "execution_count": null,
   "id": "f7b9a37d",
   "metadata": {
    "execution": {
     "iopub.execute_input": "2022-03-13T16:37:13.877343Z",
     "iopub.status.busy": "2022-03-13T16:37:13.876422Z",
     "iopub.status.idle": "2022-03-13T16:37:13.879483Z",
     "shell.execute_reply": "2022-03-13T16:37:13.879988Z",
     "shell.execute_reply.started": "2022-03-13T16:28:50.736221Z"
    },
    "papermill": {
     "duration": 1.289758,
     "end_time": "2022-03-13T16:37:13.880164",
     "exception": false,
     "start_time": "2022-03-13T16:37:12.590406",
     "status": "completed"
    },
    "tags": []
   },
   "outputs": [],
   "source": [
    "import pickle\n",
    "\n",
    "pickle.dump(scaler, open(\"scaler_churn\", 'wb'))"
   ]
  },
  {
   "cell_type": "code",
   "execution_count": null,
   "id": "37ab788a",
   "metadata": {
    "execution": {
     "iopub.execute_input": "2022-03-13T16:37:16.465407Z",
     "iopub.status.busy": "2022-03-13T16:37:16.462885Z",
     "iopub.status.idle": "2022-03-13T16:37:30.808000Z",
     "shell.execute_reply": "2022-03-13T16:37:30.808883Z",
     "shell.execute_reply.started": "2022-03-13T16:28:51.373556Z"
    },
    "papermill": {
     "duration": 15.658602,
     "end_time": "2022-03-13T16:37:30.809064",
     "exception": false,
     "start_time": "2022-03-13T16:37:15.150462",
     "status": "completed"
    },
    "scrolled": true,
    "tags": []
   },
   "outputs": [],
   "source": [
    "tf.random.set_seed(seed)\n",
    "\n",
    "model = Sequential()\n",
    "\n",
    "model.add(Dense(16, activation=\"relu\"))\n",
    "model.add(Dense(8, activation=\"relu\"))\n",
    "model.add(Dense(1, activation=\"sigmoid\"))\n",
    "\n",
    "opt = Adam(learning_rate=0.003)\n",
    "\n",
    "model.compile(optimizer=opt,\n",
    "              loss=\"binary_crossentropy\",\n",
    "              metrics=[\"Recall\"])\n",
    "\n",
    "model.fit(x=X_train,\n",
    "          y=y_train,\n",
    "          validation_data=(X_test, y_test), \n",
    "          callbacks=[early_stop],\n",
    "          batch_size=256,\n",
    "          epochs=200,\n",
    "          verbose=1,\n",
    "          class_weight=class_weights)    \n",
    "# {'batch_size': 256,'learn_rate': 0.003,'optimizer': keras.optimizer_v2.adam.Adam}\n",
    "# pay attention!! validation data "
   ]
  },
  {
   "cell_type": "code",
   "execution_count": null,
   "id": "9d2f08a6",
   "metadata": {
    "cell_style": "split",
    "execution": {
     "iopub.execute_input": "2022-03-13T16:37:33.769897Z",
     "iopub.status.busy": "2022-03-13T16:37:33.768829Z",
     "iopub.status.idle": "2022-03-13T16:37:38.007745Z",
     "shell.execute_reply": "2022-03-13T16:37:38.008309Z",
     "shell.execute_reply.started": "2022-03-13T16:29:00.554046Z"
    },
    "executionInfo": {
     "elapsed": 809,
     "status": "ok",
     "timestamp": 1610205470123,
     "user": {
      "displayName": "Richard C",
      "photoUrl": "",
      "userId": "08040814671867660929"
     },
     "user_tz": -180
    },
    "id": "vQIbjGQduQpQ",
    "papermill": {
     "duration": 5.659657,
     "end_time": "2022-03-13T16:37:38.008490",
     "exception": false,
     "start_time": "2022-03-13T16:37:32.348833",
     "status": "completed"
    },
    "tags": []
   },
   "outputs": [],
   "source": [
    "loss_df = pd.DataFrame(model.history.history)\n",
    "loss_df.plot()"
   ]
  },
  {
   "cell_type": "code",
   "execution_count": null,
   "id": "3432d37f",
   "metadata": {
    "execution": {
     "iopub.execute_input": "2022-03-13T16:37:41.133432Z",
     "iopub.status.busy": "2022-03-13T16:37:41.132412Z",
     "iopub.status.idle": "2022-03-13T16:37:41.259694Z",
     "shell.execute_reply": "2022-03-13T16:37:41.260322Z",
     "shell.execute_reply.started": "2022-03-13T16:29:02.626115Z"
    },
    "papermill": {
     "duration": 1.856183,
     "end_time": "2022-03-13T16:37:41.260502",
     "exception": false,
     "start_time": "2022-03-13T16:37:39.404319",
     "status": "completed"
    },
    "tags": []
   },
   "outputs": [],
   "source": [
    "loss, recall = model.evaluate(X_test, y_test, verbose=0)\n",
    "print(\"loss : \", loss)\n",
    "print(\"recall : \", recall)"
   ]
  },
  {
   "cell_type": "code",
   "execution_count": null,
   "id": "49f1742a",
   "metadata": {
    "execution": {
     "iopub.execute_input": "2022-03-13T16:37:44.061519Z",
     "iopub.status.busy": "2022-03-13T16:37:44.060410Z",
     "iopub.status.idle": "2022-03-13T16:37:44.205433Z",
     "shell.execute_reply": "2022-03-13T16:37:44.206329Z",
     "shell.execute_reply.started": "2022-03-13T16:29:02.761613Z"
    },
    "papermill": {
     "duration": 1.550408,
     "end_time": "2022-03-13T16:37:44.206582",
     "exception": false,
     "start_time": "2022-03-13T16:37:42.656174",
     "status": "completed"
    },
    "tags": []
   },
   "outputs": [],
   "source": [
    "y_pred = (model.predict(X_test) > 0.5).astype(\"int32\")\n",
    "print(confusion_matrix(y_test, y_pred))\n",
    "print(classification_report(y_test, y_pred))"
   ]
  },
  {
   "cell_type": "code",
   "execution_count": null,
   "id": "e4e35562",
   "metadata": {
    "execution": {
     "iopub.execute_input": "2022-03-13T16:37:47.001896Z",
     "iopub.status.busy": "2022-03-13T16:37:47.000766Z",
     "iopub.status.idle": "2022-03-13T16:37:47.027893Z",
     "shell.execute_reply": "2022-03-13T16:37:47.027165Z",
     "shell.execute_reply.started": "2022-03-13T16:29:02.877661Z"
    },
    "papermill": {
     "duration": 1.423772,
     "end_time": "2022-03-13T16:37:47.028058",
     "exception": false,
     "start_time": "2022-03-13T16:37:45.604286",
     "status": "completed"
    },
    "tags": []
   },
   "outputs": [],
   "source": [
    "model.save('model_churn.h5')"
   ]
  },
  {
   "cell_type": "markdown",
   "id": "00975a9a",
   "metadata": {
    "id": "Cq10ovAX6daY",
    "papermill": {
     "duration": 1.415132,
     "end_time": "2022-03-13T16:37:49.884882",
     "exception": false,
     "start_time": "2022-03-13T16:37:48.469750",
     "status": "completed"
    },
    "tags": []
   },
   "source": [
    "### Prediction"
   ]
  },
  {
   "cell_type": "code",
   "execution_count": null,
   "id": "2fb445ad",
   "metadata": {
    "execution": {
     "iopub.execute_input": "2022-03-13T16:37:52.999453Z",
     "iopub.status.busy": "2022-03-13T16:37:52.995058Z",
     "iopub.status.idle": "2022-03-13T16:37:53.003157Z",
     "shell.execute_reply": "2022-03-13T16:37:53.003728Z",
     "shell.execute_reply.started": "2022-03-13T16:29:02.905137Z"
    },
    "papermill": {
     "duration": 1.399579,
     "end_time": "2022-03-13T16:37:53.003908",
     "exception": false,
     "start_time": "2022-03-13T16:37:51.604329",
     "status": "completed"
    },
    "tags": []
   },
   "outputs": [],
   "source": [
    "single_customer = df.drop('Exited', axis=1).iloc[0]\n",
    "single_customer"
   ]
  },
  {
   "cell_type": "code",
   "execution_count": null,
   "id": "2814ba85",
   "metadata": {
    "execution": {
     "iopub.execute_input": "2022-03-13T16:37:55.849482Z",
     "iopub.status.busy": "2022-03-13T16:37:55.847241Z",
     "iopub.status.idle": "2022-03-13T16:37:55.852371Z",
     "shell.execute_reply": "2022-03-13T16:37:55.851746Z",
     "shell.execute_reply.started": "2022-03-13T16:29:02.916690Z"
    },
    "papermill": {
     "duration": 1.424065,
     "end_time": "2022-03-13T16:37:55.852512",
     "exception": false,
     "start_time": "2022-03-13T16:37:54.428447",
     "status": "completed"
    },
    "tags": []
   },
   "outputs": [],
   "source": [
    "single_customer = scaler.transform(single_customer.values.reshape(-1, 11))\n",
    "single_customer"
   ]
  },
  {
   "cell_type": "code",
   "execution_count": null,
   "id": "e88627d6",
   "metadata": {
    "execution": {
     "iopub.execute_input": "2022-03-13T16:37:58.683270Z",
     "iopub.status.busy": "2022-03-13T16:37:58.682211Z",
     "iopub.status.idle": "2022-03-13T16:37:58.738739Z",
     "shell.execute_reply": "2022-03-13T16:37:58.738168Z",
     "shell.execute_reply.started": "2022-03-13T16:29:02.925587Z"
    },
    "papermill": {
     "duration": 1.466656,
     "end_time": "2022-03-13T16:37:58.738901",
     "exception": false,
     "start_time": "2022-03-13T16:37:57.272245",
     "status": "completed"
    },
    "tags": []
   },
   "outputs": [],
   "source": [
    "y_pred =(model.predict(single_customer) > 0.5).astype(\"int32\")\n",
    "y_pred"
   ]
  },
  {
   "cell_type": "code",
   "execution_count": null,
   "id": "e8d7eb42",
   "metadata": {
    "execution": {
     "iopub.execute_input": "2022-03-13T16:38:02.554258Z",
     "iopub.status.busy": "2022-03-13T16:38:02.553527Z",
     "iopub.status.idle": "2022-03-13T16:38:02.557360Z",
     "shell.execute_reply": "2022-03-13T16:38:02.558047Z",
     "shell.execute_reply.started": "2022-03-13T16:29:02.970209Z"
    },
    "papermill": {
     "duration": 2.383844,
     "end_time": "2022-03-13T16:38:02.558412",
     "exception": false,
     "start_time": "2022-03-13T16:38:00.174568",
     "status": "completed"
    },
    "tags": []
   },
   "outputs": [],
   "source": [
    "df[\"Exited\"].iloc[0]"
   ]
  },
  {
   "cell_type": "markdown",
   "id": "f749c72e",
   "metadata": {
    "papermill": {
     "duration": 1.39377,
     "end_time": "2022-03-13T16:38:05.438531",
     "exception": false,
     "start_time": "2022-03-13T16:38:04.044761",
     "status": "completed"
    },
    "tags": []
   },
   "source": [
    "## Comparison with ML"
   ]
  },
  {
   "cell_type": "markdown",
   "id": "83642a2c",
   "metadata": {
    "papermill": {
     "duration": 1.429604,
     "end_time": "2022-03-13T16:38:08.267443",
     "exception": false,
     "start_time": "2022-03-13T16:38:06.837839",
     "status": "completed"
    },
    "tags": []
   },
   "source": [
    "### Logistic Regression"
   ]
  },
  {
   "cell_type": "code",
   "execution_count": null,
   "id": "a9c90de2",
   "metadata": {
    "execution": {
     "iopub.execute_input": "2022-03-13T16:38:11.076346Z",
     "iopub.status.busy": "2022-03-13T16:38:11.075398Z",
     "iopub.status.idle": "2022-03-13T16:38:11.151021Z",
     "shell.execute_reply": "2022-03-13T16:38:11.151547Z",
     "shell.execute_reply.started": "2022-03-13T16:29:02.980303Z"
    },
    "papermill": {
     "duration": 1.492362,
     "end_time": "2022-03-13T16:38:11.151739",
     "exception": false,
     "start_time": "2022-03-13T16:38:09.659377",
     "status": "completed"
    },
    "tags": []
   },
   "outputs": [],
   "source": [
    "from sklearn.linear_model import LogisticRegression"
   ]
  },
  {
   "cell_type": "code",
   "execution_count": null,
   "id": "aebe20f2",
   "metadata": {
    "execution": {
     "iopub.execute_input": "2022-03-13T16:38:14.283591Z",
     "iopub.status.busy": "2022-03-13T16:38:14.282548Z",
     "iopub.status.idle": "2022-03-13T16:38:14.350771Z",
     "shell.execute_reply": "2022-03-13T16:38:14.349435Z",
     "shell.execute_reply.started": "2022-03-13T16:29:03.049164Z"
    },
    "papermill": {
     "duration": 1.673059,
     "end_time": "2022-03-13T16:38:14.351104",
     "exception": false,
     "start_time": "2022-03-13T16:38:12.678045",
     "status": "completed"
    },
    "tags": []
   },
   "outputs": [],
   "source": [
    "log_model=LogisticRegression(class_weight='balanced')\n",
    "log_model.fit(X_train, y_train)\n",
    "y_pred = log_model.predict(X_test)\n",
    "print(confusion_matrix(y_test, y_pred))\n",
    "print(classification_report(y_test, y_pred))"
   ]
  },
  {
   "cell_type": "markdown",
   "id": "eaad577c",
   "metadata": {
    "papermill": {
     "duration": 1.420343,
     "end_time": "2022-03-13T16:38:17.215969",
     "exception": false,
     "start_time": "2022-03-13T16:38:15.795626",
     "status": "completed"
    },
    "tags": []
   },
   "source": [
    "### Random Forest"
   ]
  },
  {
   "cell_type": "code",
   "execution_count": null,
   "id": "408e9d0e",
   "metadata": {
    "execution": {
     "iopub.execute_input": "2022-03-13T16:38:20.039341Z",
     "iopub.status.busy": "2022-03-13T16:38:20.038401Z",
     "iopub.status.idle": "2022-03-13T16:38:20.172999Z",
     "shell.execute_reply": "2022-03-13T16:38:20.173792Z",
     "shell.execute_reply.started": "2022-03-13T16:29:03.104136Z"
    },
    "papermill": {
     "duration": 1.556864,
     "end_time": "2022-03-13T16:38:20.173996",
     "exception": false,
     "start_time": "2022-03-13T16:38:18.617132",
     "status": "completed"
    },
    "tags": []
   },
   "outputs": [],
   "source": [
    "from sklearn.ensemble import RandomForestClassifier\n"
   ]
  },
  {
   "cell_type": "code",
   "execution_count": null,
   "id": "c13638e8",
   "metadata": {
    "execution": {
     "iopub.execute_input": "2022-03-13T16:38:22.981898Z",
     "iopub.status.busy": "2022-03-13T16:38:22.980819Z",
     "iopub.status.idle": "2022-03-13T16:38:24.362417Z",
     "shell.execute_reply": "2022-03-13T16:38:24.363100Z",
     "shell.execute_reply.started": "2022-03-13T16:29:03.235000Z"
    },
    "papermill": {
     "duration": 2.780615,
     "end_time": "2022-03-13T16:38:24.363298",
     "exception": false,
     "start_time": "2022-03-13T16:38:21.582683",
     "status": "completed"
    },
    "tags": []
   },
   "outputs": [],
   "source": [
    "rf_model = RandomForestClassifier(class_weight='balanced')\n",
    "rf_model.fit(X_train, y_train)\n",
    "y_pred = rf_model.predict(X_test)\n",
    "print(confusion_matrix(y_test, y_pred))\n",
    "print(classification_report(y_test, y_pred))"
   ]
  },
  {
   "cell_type": "code",
   "execution_count": null,
   "id": "a116f599",
   "metadata": {},
   "outputs": [],
   "source": []
  },
  {
   "cell_type": "code",
   "execution_count": null,
   "id": "28592b83",
   "metadata": {},
   "outputs": [],
   "source": []
  },
  {
   "cell_type": "markdown",
   "id": "aca512cd",
   "metadata": {
    "papermill": {
     "duration": 0.149353,
     "end_time": "2022-03-13T16:33:15.972259",
     "exception": false,
     "start_time": "2022-03-13T16:33:15.822906",
     "status": "completed"
    },
    "tags": []
   },
   "source": [
    "___\n",
    "\n",
    "<p style=\"text-align: center;\"><img src=\"https://docs.google.com/uc?id=1lY0Uj5R04yMY3-ZppPWxqCr5pvBLYPnV\" class=\"img-fluid\" alt=\"CLRSWY\"></p>\n",
    "\n",
    "___"
   ]
  }
 ],
 "metadata": {
  "kernelspec": {
   "display_name": "Python 3 (ipykernel)",
   "language": "python",
   "name": "python3"
  },
  "language_info": {
   "codemirror_mode": {
    "name": "ipython",
    "version": 3
   },
   "file_extension": ".py",
   "mimetype": "text/x-python",
   "name": "python",
   "nbconvert_exporter": "python",
   "pygments_lexer": "ipython3",
   "version": "3.11.4"
  },
  "papermill": {
   "default_parameters": {},
   "duration": 326.375729,
   "end_time": "2022-03-13T16:38:32.137577",
   "environment_variables": {},
   "exception": null,
   "input_path": "__notebook__.ipynb",
   "output_path": "__notebook__.ipynb",
   "parameters": {},
   "start_time": "2022-03-13T16:33:05.761848",
   "version": "2.3.3"
  }
 },
 "nbformat": 4,
 "nbformat_minor": 5
}
